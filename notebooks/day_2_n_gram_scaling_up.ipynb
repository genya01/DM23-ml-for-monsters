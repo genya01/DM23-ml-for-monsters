{
 "cells": [
  {
   "cell_type": "markdown",
   "id": "bd532aad",
   "metadata": {
    "slideshow": {
     "slide_type": "slide"
    }
   },
   "source": [
    "# Here's our N-gram model: what we have so far"
   ]
  },
  {
   "cell_type": "code",
   "execution_count": 1,
   "id": "66071bc0",
   "metadata": {},
   "outputs": [],
   "source": [
    "from nltk.lm.preprocessing import pad_both_ends\n",
    "from nltk import ConditionalFreqDist\n",
    "from nltk.probability import ConditionalProbDist, ELEProbDist\n",
    "from nltk.util import pad_sequence\n",
    "from nltk.lm.preprocessing import pad_both_ends\n",
    "import re"
   ]
  },
  {
   "cell_type": "code",
   "execution_count": 2,
   "id": "913342c2",
   "metadata": {},
   "outputs": [],
   "source": [
    "corpus = \"\"\"By this liberty they entered into a very laudable emulation to do all of them \\\n",
    "what they saw did please one. If any of the gallants or ladies should say, Let us drink, \\\n",
    "they would all drink.  If any one of them said, Let us play, they all played.  If one said, \\\n",
    "Let us go a-walking into the fields they went all.\"\"\""
   ]
  },
  {
   "cell_type": "code",
   "execution_count": 3,
   "id": "5b3c09f7",
   "metadata": {},
   "outputs": [],
   "source": [
    "# get the ngrams for a corpus\n",
    "def ngrams(text, n):\n",
    "    n_grams = []\n",
    "    for i in range(n-1, len(tokenized_corpus)): \n",
    "        n_grams.append(tuple(tokenized_corpus[i-(n-1):i+1]))\n",
    "    return n_grams\n",
    "\n"
   ]
  },
  {
   "cell_type": "code",
   "execution_count": 4,
   "id": "c0792006",
   "metadata": {},
   "outputs": [],
   "source": [
    "\n",
    "\n",
    "\n",
    "class NgramModel():\n",
    "\n",
    "    \n",
    "    def __init__(self, corpus, n):\n",
    "        self.n = n\n",
    "        tokenized_corpus = self._tokenize(corpus)\n",
    "        self._ngrams = self._build_ngrams(tokenized_corpus, n)\n",
    "        self._cpd = self._build_distribution(self._ngrams, n)        \n",
    "        \n",
    "    def _tokenize(self, corpus):\n",
    "        \n",
    "        tokenized_corpus = []\n",
    "        \n",
    "        # separate punctuation from previous word\n",
    "        spaced_corpus = re.sub(r'(\\w)([.,?!;:])', r'\\1 \\2', corpus) \n",
    "        \n",
    "        # split into sentences\n",
    "        sentences = spaced_corpus.split('.')\n",
    "        for sentence in sentences:\n",
    "            words = sentence.split() # split on whitespace\n",
    "            words = [word.lower() for word in words]\n",
    "            words = list(pad_both_ends(words, n=self.n))\n",
    "            tokenized_corpus += words\n",
    "        \n",
    "        return tokenized_corpus\n",
    "            \n",
    "    def _build_ngrams(self, tokenized_corpus, n):\n",
    "        n_grams = []\n",
    "        for i in range(n-1, len(tokenized_corpus)): \n",
    "            n_grams.append(tuple(tokenized_corpus[i-(n-1):i+1]))    \n",
    "        return n_grams\n",
    "    \n",
    "    def _build_distribution(self, corpus, n):\n",
    "               \n",
    "        cfd = ConditionalFreqDist()\n",
    "        for ngram in self._ngrams:\n",
    "            condition = tuple(ngram[0:n-1]) \n",
    "            outcome = ngram[n-1]\n",
    "            \n",
    "            cfd[condition][outcome] += 1\n",
    "        bins = len(cfd) # we have to pass the number of bins in our freq dist in as a parameter to probability distribution, so we have a bin for every word\n",
    "        cpd = ConditionalProbDist(cfd, ELEProbDist, bins)\n",
    "        self.cpd = cpd\n",
    "        return cpd\n",
    "        \n",
    "    def generate(self, num_sentences = 1, seed = []):\n",
    "        \"\"\"\n",
    "        There are two cases to deal with here. Either we have a start string, or we don't. \n",
    "        If we are given a start string, we'll have to find the last n-1 gram and condition on that\n",
    "        If we are not, we need to generate the first n-1 gram. For a trigram model, we need a bigram. But how can we use our model to generate new words when we have fewer than two words to condition on?\n",
    "        We can use a bigram model! But wait. If we have a bigram model, how do we generate the first token without another token to condition on? \n",
    "        We can use a unigram model! \n",
    "        Recursion will save us here. Turns out the easiest way to do this will be to recursively construct an n-1gram model and store it in the main model.\n",
    "        And how can we \n",
    "        Either way, we need a seed condition to enter into the loop with.\n",
    "        \"\"\"\n",
    "\n",
    "        # place to put generated tokens\n",
    "        string = []\n",
    "\n",
    "        if seed:\n",
    "            string = string + (list(pad_sequence(seed, self.n, pad_left=True, pad_right=False, left_pad_symbol='<s>') ) )\n",
    "        else:\n",
    "            string = string + (list(pad_sequence('', self.n, pad_left=True, pad_right=False, left_pad_symbol='<s>') ) )\n",
    "        \n",
    "        for i in range(num_sentences):\n",
    "            next_token = tuple(string[-(self.n-1):])\n",
    "            \n",
    "            # keep generating tokens as long as we havent reached the stop sequence\n",
    "            while next_token != '</s>':\n",
    "                \n",
    "                # get the last n-1 tokens to condition on next\n",
    "                lessgram = tuple(string[-(self.n-1):])\n",
    "\n",
    "    \n",
    "                next_token = self.cpd[lessgram].generate()\n",
    "                string.append( next_token )\n",
    "\n",
    "        string = ' '.join(string)\n",
    "\n",
    "        return string\n",
    "\n",
    "        \n",
    "        "
   ]
  },
  {
   "cell_type": "code",
   "execution_count": null,
   "id": "4a77bcec-a5f8-471c-89a4-4d09bcc79822",
   "metadata": {},
   "outputs": [],
   "source": []
  },
  {
   "cell_type": "markdown",
   "id": "c012be51",
   "metadata": {},
   "source": [
    "# Scaling up\n",
    "\n",
    "If we keep increasing n, our generated text starts to repeat our input text almost word for word. To get interesting behavior, we have to increase the size of the corpus. Let's try with a much bigger corpus!"
   ]
  },
  {
   "cell_type": "code",
   "execution_count": 5,
   "id": "6702e4bd",
   "metadata": {},
   "outputs": [
    {
     "name": "stdout",
     "output_type": "stream",
     "text": [
      "<frozen runpy>:128: RuntimeWarning: 'nltk.downloader' found in sys.modules after import of package 'nltk', but prior to execution of 'nltk.downloader'; this may result in unpredictable behaviour\n",
      "[nltk_data] Downloading package gutenberg to /home/jovyan/nltk_data...\n",
      "[nltk_data]   Package gutenberg is already up-to-date!\n"
     ]
    }
   ],
   "source": [
    "import nltk\n",
    "!python3 -m nltk.downloader gutenberg\n"
   ]
  },
  {
   "cell_type": "code",
   "execution_count": null,
   "id": "809d03fd-eb21-4a0e-87c7-867adbb56d20",
   "metadata": {},
   "outputs": [],
   "source": []
  },
  {
   "cell_type": "markdown",
   "id": "0f955ed1",
   "metadata": {},
   "source": [
    "NLTK comes with several built in corpora, including a selection of books from project gutenberg"
   ]
  },
  {
   "cell_type": "code",
   "execution_count": 6,
   "id": "e3c38e8e",
   "metadata": {},
   "outputs": [
    {
     "data": {
      "text/plain": [
       "['austen-emma.txt',\n",
       " 'austen-persuasion.txt',\n",
       " 'austen-sense.txt',\n",
       " 'bible-kjv.txt',\n",
       " 'blake-poems.txt',\n",
       " 'bryant-stories.txt',\n",
       " 'burgess-busterbrown.txt',\n",
       " 'carroll-alice.txt',\n",
       " 'chesterton-ball.txt',\n",
       " 'chesterton-brown.txt',\n",
       " 'chesterton-thursday.txt',\n",
       " 'edgeworth-parents.txt',\n",
       " 'melville-moby_dick.txt',\n",
       " 'milton-paradise.txt',\n",
       " 'shakespeare-caesar.txt',\n",
       " 'shakespeare-hamlet.txt',\n",
       " 'shakespeare-macbeth.txt',\n",
       " 'whitman-leaves.txt']"
      ]
     },
     "execution_count": 6,
     "metadata": {},
     "output_type": "execute_result"
    }
   ],
   "source": [
    "# import corpus using an alias to avoid namespace confustion with our corpus variable\n",
    "from nltk import corpus as corpiss \n",
    "\n",
    "corpiss.gutenberg.fileids()"
   ]
  },
  {
   "cell_type": "code",
   "execution_count": null,
   "id": "cacec4a4-4679-4f42-97ac-e9faa947854d",
   "metadata": {},
   "outputs": [],
   "source": []
  },
  {
   "cell_type": "code",
   "execution_count": 28,
   "id": "7ce374d8-bad9-430e-9a38-0a3ee5700e67",
   "metadata": {},
   "outputs": [
    {
     "data": {
      "text/plain": [
       "['[',\n",
       " 'Alice',\n",
       " \"'\",\n",
       " 's',\n",
       " 'Adventures',\n",
       " 'in',\n",
       " 'Wonderland',\n",
       " 'by',\n",
       " 'Lewis',\n",
       " 'Carroll',\n",
       " '1865',\n",
       " ']',\n",
       " 'CHAPTER',\n",
       " 'I',\n",
       " '.',\n",
       " 'Down',\n",
       " 'the',\n",
       " 'Rabbit',\n",
       " '-',\n",
       " 'Hole',\n",
       " 'Alice',\n",
       " 'was',\n",
       " 'beginning',\n",
       " 'to',\n",
       " 'get',\n",
       " 'very',\n",
       " 'tired',\n",
       " 'of',\n",
       " 'sitting',\n",
       " 'by',\n",
       " 'her',\n",
       " 'sister',\n",
       " 'on',\n",
       " 'the',\n",
       " 'bank',\n",
       " ',',\n",
       " 'and',\n",
       " 'of',\n",
       " 'having',\n",
       " 'nothing']"
      ]
     },
     "execution_count": 28,
     "metadata": {},
     "output_type": "execute_result"
    }
   ],
   "source": [
    "ca = corpiss.gutenberg.words('carroll-alice.txt')\n",
    "list(ca)[:40]"
   ]
  },
  {
   "cell_type": "code",
   "execution_count": null,
   "id": "c9c3dec3-5002-4e31-a261-8512e55659e0",
   "metadata": {},
   "outputs": [],
   "source": []
  },
  {
   "cell_type": "code",
   "execution_count": null,
   "id": "b663de90-3273-4eb2-81ff-9955aa81a60e",
   "metadata": {},
   "outputs": [],
   "source": []
  },
  {
   "cell_type": "code",
   "execution_count": null,
   "id": "506b5bdc-20a4-4397-9b53-8ca4bc17652f",
   "metadata": {},
   "outputs": [],
   "source": []
  },
  {
   "cell_type": "code",
   "execution_count": 30,
   "id": "deaee64c-0465-4a0b-bc9a-4723fde171f3",
   "metadata": {},
   "outputs": [
    {
     "data": {
      "text/plain": [
       "'[ The King James Bible ] The Old Testame'"
      ]
     },
     "execution_count": 30,
     "metadata": {},
     "output_type": "execute_result"
    }
   ],
   "source": [
    "kjv = (' ').join(kjv)\n",
    "kjv[:40]"
   ]
  },
  {
   "cell_type": "code",
   "execution_count": 31,
   "id": "422d7945-8b4c-4b4f-9bf5-fa2d34db75b2",
   "metadata": {},
   "outputs": [],
   "source": [
    "model = NgramModel(kjv, 4)"
   ]
  },
  {
   "cell_type": "code",
   "execution_count": 34,
   "id": "5e4073f4-8150-40f6-b5c3-24eb3eba0eb4",
   "metadata": {},
   "outputs": [
    {
     "data": {
      "text/plain": [
       "'verily i say unto you my friends , be not darkened , nor the children be put to confusion , that desire my hurt . and whoso toucheth any thing that cometh of the seed of jacob , as the showers upon the grass . see , i pray thee therefore , father , into thy hands i commend my spirit : and , behold , being planted , shall it be imputed unto that man by whom he is betrayed ! good were it for that man if he had never been born . holy father , keep through thine own name those whom thou hast borne thy lewdness and thine abominations that are in thy hand : [number] : [number] absalom said moreover , this is acceptable with god '"
      ]
     },
     "execution_count": 34,
     "metadata": {},
     "output_type": "execute_result"
    }
   ],
   "source": [
    "model.generate(10)"
   ]
  },
  {
   "cell_type": "code",
   "execution_count": null,
   "id": "8a5b39e0-4170-403b-8746-96291600a393",
   "metadata": {},
   "outputs": [],
   "source": []
  },
  {
   "cell_type": "code",
   "execution_count": null,
   "id": "33413e71-f489-4fb9-8160-5d74dd372a77",
   "metadata": {},
   "outputs": [],
   "source": []
  },
  {
   "cell_type": "code",
   "execution_count": null,
   "id": "643c1938-984d-451d-ad00-d9a9f57f6b0c",
   "metadata": {},
   "outputs": [],
   "source": []
  },
  {
   "cell_type": "code",
   "execution_count": null,
   "id": "3a28f9dc-de17-4730-a444-7a1d844c2dd0",
   "metadata": {},
   "outputs": [],
   "source": []
  },
  {
   "cell_type": "code",
   "execution_count": null,
   "id": "0434cc21-c091-44d4-9778-74eafafd8031",
   "metadata": {},
   "outputs": [],
   "source": []
  },
  {
   "cell_type": "code",
   "execution_count": 29,
   "id": "e69afbd8",
   "metadata": {},
   "outputs": [
    {
     "data": {
      "text/plain": [
       "['[',\n",
       " 'The',\n",
       " 'King',\n",
       " 'James',\n",
       " 'Bible',\n",
       " ']',\n",
       " 'The',\n",
       " 'Old',\n",
       " 'Testament',\n",
       " 'of',\n",
       " 'the',\n",
       " 'King',\n",
       " 'James',\n",
       " 'Bible',\n",
       " 'The',\n",
       " 'First',\n",
       " 'Book',\n",
       " 'of',\n",
       " 'Moses',\n",
       " ':',\n",
       " 'Called',\n",
       " 'Genesis',\n",
       " '1',\n",
       " ':',\n",
       " '1',\n",
       " 'In',\n",
       " 'the',\n",
       " 'beginning',\n",
       " 'God',\n",
       " 'created',\n",
       " 'the',\n",
       " 'heaven',\n",
       " 'and',\n",
       " 'the',\n",
       " 'earth',\n",
       " '.',\n",
       " '1',\n",
       " ':',\n",
       " '2',\n",
       " 'And']"
      ]
     },
     "execution_count": 29,
     "metadata": {},
     "output_type": "execute_result"
    }
   ],
   "source": [
    "kjv = corpiss.gutenberg.words('bible-kjv.txt')\n",
    "list(kjv)[:40]"
   ]
  },
  {
   "cell_type": "code",
   "execution_count": null,
   "id": "a51ea4ce-a621-4585-aa8c-31f257fe9882",
   "metadata": {},
   "outputs": [],
   "source": []
  },
  {
   "cell_type": "code",
   "execution_count": null,
   "id": "fed9ae4b-c3da-45b5-8d2e-8b87a894a2cd",
   "metadata": {},
   "outputs": [],
   "source": []
  },
  {
   "cell_type": "markdown",
   "id": "296cfdb2",
   "metadata": {},
   "source": [
    "### A Few final adjustments\n",
    "\n",
    "We have some housekeeping things to take care of. \n",
    "\n",
    "1. Because we have encoded sentence breaks as a string of start and stop sequences, we now will generate a lot of them in our output. We add function to strip them out, and update our generate method to strip out these tokens before printing\n",
    "\n"
   ]
  },
  {
   "cell_type": "code",
   "execution_count": 8,
   "id": "703885bf",
   "metadata": {},
   "outputs": [
    {
     "data": {
      "text/plain": [
       "'take mark , and see now , and humble ye them , and seethe his flesh in running water , and be slain , and they rode upon the camels , and have washed their robes , and made unto themselves of the holy angels , and to solomon his son . even so , father ; for the press is full , the fats overflow ; for their wickedness . 119 : 59 i thought on my ways , as a seal upon him , and would none of my words . 30 : 37 and jacob took him rods of green poplar , and of beast : it is most holy unto him of his labour the days of jehoahaz . 97 : 3 a man shall dig a pit , and sold joseph to the ishmeelites for twenty pieces of silver out of the sheath thereof , and add unto it the fifth part unto pharaoh , and say to hezekiah , thus saith god the lord , after this manner therefore pray ye : our father which art in heaven , now is the judgment of moab . 134 : 3 the aged women likewise , that they escaped all safe to land . spots they are and blemishes , sporting themselves with their own works , as god liveth , who hath begotten me these , seeing i have rejected him from reigning over israel ? 15 : 37 and reuben spake unto his brother a name in israel , telleth the king of lachish , bind the tire of thine head upon thee , until it was a river that i could withstand god ? 11 : 30 are they not written in this book : worship god : for man would swallow me up . unto him that giveth his neighbour drink , that puttest thy bottle to him , rise , and measure the temple of babylon , my servant deceived me : my moisture is turned into mourning . 106 : 18 and samuel told him every whit , and hid snares for my feet .'"
      ]
     },
     "execution_count": 8,
     "metadata": {},
     "output_type": "execute_result"
    }
   ],
   "source": [
    "def add_stops(string):\n",
    "    \"\"\"\n",
    "    function to convert the stop/start sequence back into periods.\n",
    "    strips all the sequences of any number of stop tokens followed by the some number of start tokens\n",
    "    and replaces them with a period.\n",
    "\n",
    "    then strips any remaining stop and start sequences (which will occur at the beginning and end of our entire generated sequence)\n",
    "    \"\"\"\n",
    "    string = re.sub(r\"</s>(?:\\s</s>)*\\s<s>(?:\\s<s>)*\", \".\", string)\n",
    "\n",
    "    string = re.sub(r\"(<s>\\s)+\", \"\", string) # initial tokens\n",
    "    string = re.sub(r\"(</s>)\", \"\", string) # final token\n",
    "\n",
    "    return string\n",
    "\n",
    "\n",
    "test_string = '<s> <s> <s> take mark , and see now , and humble ye them , and seethe his flesh in running water , and be slain , and they rode upon the camels , and have washed their robes , and made unto themselves of the holy angels , and to solomon his son </s> </s> </s> <s> <s> <s> even so , father ; for the press is full , the fats overflow ; for their wickedness </s> </s> </s> <s> <s> <s> 119 : 59 i thought on my ways , as a seal upon him , and would none of my words </s> </s> </s> <s> <s> <s> 30 : 37 and jacob took him rods of green poplar , and of beast : it is most holy unto him of his labour the days of jehoahaz </s> </s> </s> <s> <s> <s> 97 : 3 a man shall dig a pit , and sold joseph to the ishmeelites for twenty pieces of silver out of the sheath thereof , and add unto it the fifth part unto pharaoh , and say to hezekiah , thus saith god the lord , after this manner therefore pray ye : our father which art in heaven , now is the judgment of moab </s> </s> </s> <s> <s> <s> 134 : 3 the aged women likewise , that they escaped all safe to land </s> </s> </s> <s> <s> <s> spots they are and blemishes , sporting themselves with their own works , as god liveth , who hath begotten me these , seeing i have rejected him from reigning over israel ? 15 : 37 and reuben spake unto his brother a name in israel , telleth the king of lachish , bind the tire of thine head upon thee , until it was a river that i could withstand god ? 11 : 30 are they not written in this book : worship god : for man would swallow me up </s> </s> </s> <s> <s> <s> unto him that giveth his neighbour drink , that puttest thy bottle to him , rise , and measure the temple of babylon , my servant deceived me : my moisture is turned into mourning </s> </s> </s> <s> <s> <s> 106 : 18 and samuel told him every whit , and hid snares for my feet </s> </s> </s> <s> <s> <s>'\n",
    "model = NgramModel(corpus, 3)\n",
    "add_stops(test_string)"
   ]
  },
  {
   "cell_type": "code",
   "execution_count": null,
   "id": "2a4b9659-0a1f-4304-bc54-4482edeffec7",
   "metadata": {},
   "outputs": [],
   "source": []
  },
  {
   "cell_type": "markdown",
   "id": "573b86ba",
   "metadata": {},
   "source": [
    "2. numbers are a problem for n-gram models becayse there are so many of them. we don't want to eliminate them, because they are meaningful, but we want to abstract away from the individual numbers. In addition, we might want to get rid of some other things like parentheticals and quotes, becayse these impossible for our model to keep track of given it's amount of memory. We can take care of these things in the preprocessing function"
   ]
  },
  {
   "cell_type": "code",
   "execution_count": 9,
   "id": "2f57c6e7",
   "metadata": {},
   "outputs": [],
   "source": [
    "from functools import reduce\n",
    "\n",
    "def _tokenize(self, corpus):\n",
    "    # The list of regular expressions and replacements to be applied\n",
    "    # the order here matters! these replacements will happen in order\n",
    "    replacements = [\n",
    "         [\"[-\\n]\",                   \" \"] # Hyphens to whitespace\n",
    "        ,[r'[][(){}#$%\"]',           \"\"] # Strip unwanted characters like quotes and brackets\n",
    "        ,[r'\\s([./-]?\\d+)+[./-]?\\s', \" [NUMBER] \"] # Standardize numbers\n",
    "        ,[r'\\.{3,}',                 \" [ELLIPSIS] \"] # remove ellipsis\n",
    "        ,[r'(\\w)([.,?!;:])',         r'\\1 \\2' ]  # separate punctuation from previous word\n",
    "    ]\n",
    "\n",
    "    # This is a function that applies a single replacement from the list\n",
    "    resub = lambda words, repls: re.sub(repls[0], repls[1], words)\n",
    "\n",
    "    # we use the resub function to applea each replacement to the entire corpus,\n",
    "    normalized_corpus = reduce(resub, replacements, corpus)\n",
    "\n",
    "\n",
    "    sentences = normalized_corpus.split('.')\n",
    "\n",
    "    tokens = []\n",
    "    for sentence in sentences:\n",
    "        words = sentence.split() # split on whitespace\n",
    "        words = [word.lower() for word in words]\n",
    "        words = list(pad_both_ends(words, n=self.n))\n",
    "        tokens += words\n",
    "\n",
    "    return tokens"
   ]
  },
  {
   "cell_type": "code",
   "execution_count": null,
   "id": "6156696c-5d8a-48bf-84b4-03ac835acebc",
   "metadata": {},
   "outputs": [],
   "source": []
  },
  {
   "cell_type": "code",
   "execution_count": null,
   "id": "1d0b4f71-1da4-4db7-84ef-e1953c1601ca",
   "metadata": {},
   "outputs": [],
   "source": []
  },
  {
   "cell_type": "markdown",
   "id": "631b11df",
   "metadata": {},
   "source": [
    "Here is a final version of our class with all the bells and whistles"
   ]
  },
  {
   "cell_type": "code",
   "execution_count": 10,
   "id": "4e46957b",
   "metadata": {},
   "outputs": [],
   "source": [
    "from nltk.lm.preprocessing import pad_both_ends\n",
    "from nltk import ConditionalFreqDist\n",
    "from nltk.probability import ConditionalProbDist, ELEProbDist\n",
    "from nltk.util import pad_sequence\n",
    "from nltk.lm.preprocessing import pad_both_ends\n",
    "from functools import reduce\n",
    "\n",
    "class NgramModel():\n",
    "\n",
    "    \n",
    "    def __init__(self, corpus, n):\n",
    "        self.n = n\n",
    "        tokenized_corpus = self._tokenize(corpus)\n",
    "        self._ngrams = self._build_ngrams(tokenized_corpus, n)\n",
    "        self._cpd = self._build_distribution(self._ngrams, n)        \n",
    "\n",
    "    def _tokenize(self, corpus):\n",
    "        # The list of regular expressions and replacements to be applied\n",
    "        # the order here matters! these replacements will happen in order\n",
    "        replacements = [\n",
    "             [\"[-\\n]\",                   \" \"] # Hyphens to whitespace\n",
    "            ,[r'[][(){}#$%\"]',           \"\"] # Strip unwanted characters like quotes and brackets\n",
    "            ,[r'\\s([./-]?\\d+)+[./-]?\\s', \" [NUMBER] \"] # Standardize numbers\n",
    "            ,[r'\\.{3,}',                 \" [ELLIPSIS] \"] # remove ellipsis\n",
    "            ,[r'(\\w)([.,?!;:])',         r'\\1 \\2' ]  # separate punctuation from previous word\n",
    "        ]\n",
    "        \n",
    "        # This is a function that applies a single replacement from the list\n",
    "        resub = lambda words, repls: re.sub(repls[0], repls[1], words)\n",
    "        \n",
    "        # we use the resub function to applea each replacement to the entire corpus,\n",
    "        normalized_corpus = reduce(resub, replacements, corpus)\n",
    "        \n",
    "        \n",
    "        sentences = normalized_corpus.split('.')\n",
    "        \n",
    "        tokens = []\n",
    "        for sentence in sentences:\n",
    "            words = sentence.split() # split on whitespace\n",
    "            words = [word.lower() for word in words]\n",
    "            words = list(pad_both_ends(words, n=self.n))\n",
    "            tokens += words\n",
    "        \n",
    "        return tokens\n",
    "            \n",
    "    def _build_ngrams(self, tokenized_corpus, n):\n",
    "        n_grams = []\n",
    "        for i in range(n-1, len(tokenized_corpus)): \n",
    "            n_grams.append(tuple(tokenized_corpus[i-(n-1):i+1]))    \n",
    "        return n_grams\n",
    "    \n",
    "    def _build_distribution(self, corpus, n):\n",
    "               \n",
    "        cfd = ConditionalFreqDist()\n",
    "        for ngram in self._ngrams:\n",
    "            condition = tuple(ngram[0:n-1]) \n",
    "            outcome = ngram[n-1]\n",
    "            \n",
    "            cfd[condition][outcome] += 1\n",
    "        bins = len(cfd) # we have to pass the number of bins in our freq dist in as a parameter to probability distribution, so we have a bin for every word\n",
    "        cpd = ConditionalProbDist(cfd, ELEProbDist, bins)\n",
    "        self.cpd = cpd\n",
    "        return cpd\n",
    "        \n",
    "    def generate(self, num_sentences = 1, seed = []):\n",
    "        \"\"\"\n",
    "        There are two cases to deal with here. Either we have a start string, or we don't. \n",
    "        If we are given a start string, we'll have to find the last n-1 gram and condition on that\n",
    "        If we are not, we need to generate the first n-1 gram. For a trigram model, we need a bigram. But how can we use our model to generate new words when we have fewer than two words to condition on?\n",
    "        We can use a bigram model! But wait. If we have a bigram model, how do we generate the first token without another token to condition on? \n",
    "        We can use a unigram model! \n",
    "        Recursion will save us here. Turns out the easiest way to do this will be to recursively construct an n-1gram model and store it in the main model.\n",
    "        And how can we \n",
    "        Either way, we need a seed condition to enter into the loop with.\n",
    "        \"\"\"\n",
    "\n",
    "        # place to put generated tokens\n",
    "        string = []\n",
    "\n",
    "        if seed:\n",
    "            string = string + (list(pad_sequence(seed, self.n, pad_left=True, pad_right=False, left_pad_symbol='<s>') ) )\n",
    "        else:\n",
    "            string = string + (list(pad_sequence('', self.n, pad_left=True, pad_right=False, left_pad_symbol='<s>') ) )\n",
    "        \n",
    "        for i in range(num_sentences):\n",
    "            next_token = tuple(string[-(self.n-1):])\n",
    "            \n",
    "            # keep generating tokens as long as we havent reached the stop sequence\n",
    "            while next_token != '</s>':\n",
    "                \n",
    "                # get the last n-1 tokens to condition on next\n",
    "                lessgram = tuple(string[-(self.n-1):])\n",
    "\n",
    "    \n",
    "                next_token = self.cpd[lessgram].generate()\n",
    "                string.append( next_token )\n",
    "\n",
    "        string = ' '.join(string)\n",
    "        string = add_stops(string)\n",
    "\n",
    "        return string\n",
    "\n",
    "    \n",
    "    def add_stops(string):\n",
    "        \"\"\"\n",
    "        function to convert the stop/start sequence back into periods.\n",
    "        strips all the sequences of any number of stop tokens followed by the some number of start tokens\n",
    "        and replaces them with a period.\n",
    "\n",
    "        then strips any remaining stop and start sequences (which will occur at the beginning and end of our entire generated sequence)\n",
    "        \"\"\"\n",
    "        string = re.sub(r\"</s>(?:\\s</s>)*\\s<s>(?:\\s<s>)*\", \".\", string)\n",
    "\n",
    "        string = re.sub(r\"(<s>\\s)+\", \"\", string) # initial tokens\n",
    "        string = re.sub(r\"(</s>)\", \"\", string) # final token\n",
    "\n",
    "        return string"
   ]
  },
  {
   "cell_type": "code",
   "execution_count": null,
   "id": "884f6f11-c5ed-431b-a271-071a6c01474e",
   "metadata": {},
   "outputs": [],
   "source": []
  },
  {
   "cell_type": "code",
   "execution_count": 11,
   "id": "966c2c88",
   "metadata": {},
   "outputs": [],
   "source": [
    "model = NgramModel(corpus, 2)\n"
   ]
  },
  {
   "cell_type": "code",
   "execution_count": 12,
   "id": "c6c62143",
   "metadata": {},
   "outputs": [
    {
     "data": {
      "text/plain": [
       "'if one said , let us go a walking into the gallants or ladies should say , they saw did please one said , they went all drink , let us go a walking into a very laudable emulation to do all of them what they would all . by this liberty they all drink . . by this liberty they would all played . by this liberty they went all played . if one of the fields they entered into the fields they entered into a very laudable emulation to do all . . if one of them what they would all of them said , let us drink . if any one said , they would all drink . by this liberty they saw did please one '"
      ]
     },
     "execution_count": 12,
     "metadata": {},
     "output_type": "execute_result"
    }
   ],
   "source": [
    "model.generate(10)"
   ]
  },
  {
   "cell_type": "markdown",
   "id": "5591a9ce",
   "metadata": {},
   "source": [
    "We try generating a 4-gram model with the King James Bible"
   ]
  },
  {
   "cell_type": "markdown",
   "id": "01b20358",
   "metadata": {},
   "source": [
    "Our model expects its training corpus in the form of a single string."
   ]
  },
  {
   "cell_type": "code",
   "execution_count": 13,
   "id": "b4ee616d",
   "metadata": {},
   "outputs": [],
   "source": [
    "kjv = (' ').join(kjv)"
   ]
  },
  {
   "cell_type": "code",
   "execution_count": 14,
   "id": "1be7089e",
   "metadata": {},
   "outputs": [],
   "source": [
    "model = NgramModel(kjv, 4)\n"
   ]
  },
  {
   "cell_type": "code",
   "execution_count": 15,
   "id": "2637c734",
   "metadata": {},
   "outputs": [
    {
     "data": {
      "text/plain": [
       "\"selah . [number] : [number] esau took his wives of the women ' s house . every one that retaineth her . woe unto you , he shall build the house of elisha \""
      ]
     },
     "execution_count": 15,
     "metadata": {},
     "output_type": "execute_result"
    }
   ],
   "source": [
    "model.generate(10)"
   ]
  },
  {
   "cell_type": "markdown",
   "id": "9ad1d6e2",
   "metadata": {},
   "source": [
    "# Let's do a mashup"
   ]
  },
  {
   "cell_type": "markdown",
   "id": "090c1a90",
   "metadata": {},
   "source": [
    "Intro to beautiful soup for scraping web text"
   ]
  },
  {
   "cell_type": "code",
   "execution_count": 35,
   "id": "86054ce6",
   "metadata": {},
   "outputs": [
    {
     "name": "stdout",
     "output_type": "stream",
     "text": [
      "Requirement already satisfied: beautifulsoup4 in /opt/conda/lib/python3.11/site-packages (4.12.2)\n",
      "Requirement already satisfied: soupsieve>1.2 in /opt/conda/lib/python3.11/site-packages (from beautifulsoup4) (2.3.2.post1)\n",
      "#cover t-i-the-invisible-committe-now-8.png\n",
      "#pubdate 2018-02-25 19:37:42 +0000\n",
      "#title Now\n",
      "#author The Invisible Committe\n",
      "#LISTtitle Now\n",
      "#SORTauthors comité invisible\n",
      "#date 2017\n",
      "#source Retrived on February 18, 2018 from https://illwilleditions.noblogs.org/files/2018/02/Invisible-Committee-NOW-READ.pdf\n",
      "#lang en\n",
      "#SORTtopics insurrectionary, communization\n",
      "#notes The Invisible Committee are an anonymous fragment of the Imaginary Party.\n",
      "First published as *Maintenant* in May, 2017.\n",
      "Translated by Robert Hurley.\n",
      "\n",
      "\n",
      "No more waiting.\n",
      "No more hoping.\n",
      "No more letting ourselves be distracted, unnerved.\n",
      "Break and enter.\n",
      "Put untruth back in its place.\n",
      "Believe in what we feel.\n",
      "Act accordingly.\n",
      "Force our way into the present.\n",
      "Try. Fail this time. Try again. Fail better.\n",
      "Persist. Attack. Build.\n",
      "Go down one’s road.\n",
      "Win perhaps.\n",
      "In any case, overcome.\n",
      "Live, therefore.\n",
      "Now...\n",
      "\n",
      "\n",
      "** Tomorrow Is Cancelled\n",
      "\n",
      "\n",
      "\n",
      "[[t-i-the-invisible-committe-now-1.png f]]\n",
      "\n",
      "\n",
      "\n",
      "All the reasons for making a revolution are there. Not one is lacking. The shipwreck of politics, the arrogance of the powerful, the reign of falsehood, the vulgarity of the wealthy, the cataclysms of industry, galloping misery, naked exploitation, ecological apocalypse—we are spared nothing, not even being informed about it all. “Climate: 2016 breaks a heat record,” Le Monde announces, the same as almost every year now. All the reasons are there together, but it’s not reasons that make revolutions, it’s bodies. And the bodies are in front of screens.\n",
      "\n",
      "One can watch a presidential election sink like a stone. The transformation of “the most important moment in French political life” into a big trashing fest only makes the soap opera more captivating. One couldn’t imagine Koh-Lanta with such characters, such dizzying plot twists, such cruel tests, or so general a humiliation. The spectacle of politics lives on as the spectacle of its decomposition. Disbelief goes nicely with the filthy landscape. The National Front, that political negation of\n"
     ]
    }
   ],
   "source": [
    "!pip3 install beautifulsoup4\n",
    "\n",
    "from bs4 import *\n",
    "\n",
    "import requests\n",
    "\n",
    "url = 'https://theanarchistlibrary.org/library/the-invisible-committe-now.muse'\n",
    "res = requests.get(url)\n",
    "html_page = res.text\n",
    "\n",
    "# Parse the source code using BeautifulSoup\n",
    "soup = BeautifulSoup(html_page, 'html.parser')\n",
    "\n",
    "# Extract the plain text content\n",
    "text = soup.get_text()\n",
    "\n",
    "# Print the plain text\n",
    "print(text[:2000])\n"
   ]
  },
  {
   "cell_type": "code",
   "execution_count": null,
   "id": "92782180-74d3-4c84-84c3-89d0adee5f36",
   "metadata": {},
   "outputs": [],
   "source": []
  },
  {
   "cell_type": "code",
   "execution_count": 36,
   "id": "c57d0783",
   "metadata": {},
   "outputs": [
    {
     "name": "stdout",
     "output_type": "stream",
     "text": [
      "4495207\n",
      "199704\n",
      "3994080\n"
     ]
    }
   ],
   "source": [
    "print(len(kjv))\n",
    "print(len(text))\n",
    "print(len(text * 20))"
   ]
  },
  {
   "cell_type": "code",
   "execution_count": null,
   "id": "e2eeaafc-078d-4a03-8082-ce4e929f0c38",
   "metadata": {},
   "outputs": [],
   "source": []
  },
  {
   "cell_type": "code",
   "execution_count": 37,
   "id": "f269771d",
   "metadata": {},
   "outputs": [],
   "source": [
    "\n",
    "mashup = text * 20 + kjv \n"
   ]
  },
  {
   "cell_type": "code",
   "execution_count": null,
   "id": "c47d526b-1cce-4b58-9b6b-405b21bb7b76",
   "metadata": {},
   "outputs": [],
   "source": []
  },
  {
   "cell_type": "code",
   "execution_count": 39,
   "id": "1277f9de",
   "metadata": {},
   "outputs": [],
   "source": [
    "model = NgramModel(mashup, 2)\n"
   ]
  },
  {
   "cell_type": "code",
   "execution_count": null,
   "id": "15d9a6fe-5d43-47ef-8243-8aeecfd74d1d",
   "metadata": {},
   "outputs": [],
   "source": []
  },
  {
   "cell_type": "code",
   "execution_count": 40,
   "id": "f2a024dd",
   "metadata": {},
   "outputs": [
    {
     "data": {
      "text/plain": [
       "'[number] : against those were spread up after him : it accommodates on the “casseurs” or being raised metal passageway turned away while peter doubted in the spirit into singing , and her fret themselves first took from transgression with no sphere separate themselves unto whom hath magnified them discovered the nation against the procession . it contains , and crown wherewith the splendor he went . [number] conflict against each on it was come according to breathe an execration , and it’s bodies within , the nations have asked such little way , it with him likewise . [number] : [number] and proclaim before eleazar was surveilling “dealers” delivered our debts , let us , it’s that there are an appointed fourscore and cause darkness from india unto the world marry to be blind he wrapped together were not refrain for no sense yours also rebelled , dating sites form a perverse before thee , if first set it was returning from the underside of facts , the same wicked spring shut thou play ,” “in order appears , it’s a society . it imperceptibly , and sanctified by keeping them out very complicated now whereas they themselves by wine to immer the banks all tribulation , that an activity among friends every creation groaneth and abode '"
      ]
     },
     "execution_count": 40,
     "metadata": {},
     "output_type": "execute_result"
    }
   ],
   "source": [
    "model.generate(5)"
   ]
  },
  {
   "cell_type": "code",
   "execution_count": null,
   "id": "1148817e-9e65-4b86-a622-d6a89f9ba411",
   "metadata": {},
   "outputs": [],
   "source": []
  },
  {
   "cell_type": "code",
   "execution_count": null,
   "id": "2ae8b575-1182-435c-808b-d79c667020fa",
   "metadata": {},
   "outputs": [],
   "source": []
  },
  {
   "cell_type": "markdown",
   "id": "f363b0b1",
   "metadata": {},
   "source": [
    "Wow!\n",
    "\n",
    "'among the hills that are weaned from the waters saw thee polluted in thy glory above all people , from beersheba to mount up with . [number] : [number] and shaalabbin , and partly broken . report , that jehoshaphat the king is among us still believed in hope ; patient in spirit ; and half of thy power preserve thou those that served in the womb : if jacob take a lump of figs were set there upon him shall inherit all things thereon . in most militants this search for my gold and the lord separated the sons shall eat clean provender , which loveth thee and abishai , and kings have had dominion over our cattle . then he sacrificed also and to whomsoever he will prosper us ; thus have been occupied therein . yellowed figures of cherubims and palm trees : they serve not thy left side , upon their altars : but according to our hand be upon every fowl of the european union . all these did moses command joshua , this do ye look on us ; because a deep sleep fell upon it before saul : [number] wise men , let them turn their mourning . after theo’s rape , a strong wind ? [number] : [number] open thou mine affliction . to him remaining . rather comically , he took counsel how they might attain to innocency ? [number] : [number] for behold the place hormah  '"
   ]
  },
  {
   "cell_type": "markdown",
   "id": "5646db1d",
   "metadata": {},
   "source": [
    "# Exercise / Homework??\n",
    "\n",
    "Make a mashup of two texts. They can be texts you wrote (a collection of tweets, an essay), or from anywhere. You can use libgen to find books and Calibre to convert them to text. Either paste the text directly into a notebook or use a Python utility for reading files."
   ]
  },
  {
   "cell_type": "code",
   "execution_count": 21,
   "id": "15494939",
   "metadata": {},
   "outputs": [
    {
     "name": "stdout",
     "output_type": "stream",
     "text": [
      "150118\n",
      "199704\n"
     ]
    }
   ],
   "source": [
    "alice = (' ').join(corpiss.gutenberg.words('carroll-alice.txt'))\n",
    "now = text\n",
    "\n",
    "print(len(alice))\n",
    "print(len(text))"
   ]
  },
  {
   "cell_type": "code",
   "execution_count": 22,
   "id": "f1125b66",
   "metadata": {},
   "outputs": [],
   "source": [
    "mashups = alice + text\n",
    "model = NgramModel(mashups, 2)\n"
   ]
  },
  {
   "cell_type": "code",
   "execution_count": 23,
   "id": "33bd1a97",
   "metadata": {},
   "outputs": [
    {
     "data": {
      "text/plain": [
       "\"as alice cautiously replied : did !' so fond of gaming by furtively establishing relatively secure everyone’s sentiments , critiquing , you consider yourselves above a major turnaround in hebrew is not into a loud , cannot confine , facebook , but little form the most astute journalistic commentary noted , this ?' alice watched the cattle in which it was certainly was indeed to allow a paper label with ,' father , but one ends up !' there isn ' t squeeze so good many voices ' anything about ? so exhausted from capitalist valorization . by ancient psychology and music , profits , work and nowhere else seemed eternal collapses into equivalence as newsworthy about lessons : still can’t be getting extremely small cake , the united states were little ,' and night air : “when order appears as best they live beside themselves flat , luckily the head down !” communism that altogether , of grass rustled at it challenges us shudder before airbnb , ' it ' shall fall a whole critique of experience of deleuze said what latitude was your walk on is !' thought to kneel down her at everything into crazy !' which we propose paying careful not surprising that if modern thinker of fact confession to ruffin . existence does it ' nothing better . before ,' to contain the communism remains for an institution provides is where civilization’s general organization for anything anymore in marches starting from constituting a target of a sudden change , loud as alice quite faint breath , yer honour , and movements function as herself by going out in an easy thing about ; for pulling me !” assembly line what she wanted to accept that makes me ' poor speaker ,' continued in isolation ; segregation is really is and through ignorance can see shakespeare , who already in trampling on images of it continued the noxious character to win perhaps , nobody spoke it started to live flamingoes and one politically irreproachable . “there is most important piece , if any obedience , modern thinker of always break and he’s proud as a hatter trembled till then !' or conversation a water well without at all looking up overshadowing everything will turn up being held back of syria , full size ? in question was an art so called a bit more of priorities that she at any asserted singularity scandalous by self must go , it away went timidly said what has manifestly been of “politicians ,” which some fun \""
      ]
     },
     "execution_count": 23,
     "metadata": {},
     "output_type": "execute_result"
    }
   ],
   "source": [
    "model.generate(5)"
   ]
  },
  {
   "cell_type": "code",
   "execution_count": null,
   "id": "a20e4f86-6b97-402f-809d-7a43a4cd458e",
   "metadata": {},
   "outputs": [],
   "source": []
  },
  {
   "cell_type": "code",
   "execution_count": 84,
   "id": "19e7e91a-b30e-4846-9e9a-5b23ea27fd88",
   "metadata": {},
   "outputs": [
    {
     "name": "stdout",
     "output_type": "stream",
     "text": [
      "Requirement already satisfied: beautifulsoup4 in /opt/conda/lib/python3.11/site-packages (4.12.2)\n",
      "Requirement already satisfied: soupsieve>1.2 in /opt/conda/lib/python3.11/site-packages (from beautifulsoup4) (2.3.2.post1)\n",
      "m the Point of View of Ivan Illich • Ill WillIll WillsearchmenuClose menuQuestions About the Current Pandemic From the Point of View of Ivan IllichDavid CayleyApril 13th, 2020Other languages: Français, Español, ΕλληνικάLast week I began an essay on the current pandemic in which I tried to address what I take to be the central question that it raises:  Is the massive and costly effort to contain and limit the harm that the virus will do the only choice we have?  Is it no more than an obvious and unavoidable exercise of prudence undertaken to protect the most vulnerable?  Or is it a disastrous effort to maintain control of what is obviously out of control, an effort which will compound the damage being done by the disease with new troubles that will reverberate far into the future?  I hadn’t been writing for long before I began to realize that many of the assumptions I was making were quite remote from those being expressed all around me.  These assumptions had mainly come, I reflected, from my prolonged conversation with the work of Ivan Illich.  What this suggested was that, before I could speak intelligibly about our present circumstances, I would first have to sketch the attitude towards health, medicine and well-being that Illich developed over a lifetime of reflection on these themes.  Accordingly, in what follows, I will start with a brief account of the evolution of Illich’s critique of bio-medicine and then try to answer the questions I just posed in this light..At the beginning of his 1973 book Tools of Conviviality, Illich described what he thought was the typical course of development followed by contemporary institutions, using medicine as his example.  Medicine, he said, had gone through “two watersheds.”  The first had been crossed in the early years of the 20th century when medical treatments became demonstrably effective and benefits generally began to exceed harms.  For many medical historians this is the only relevant marker – from this point on progress will proceed indefinitely, and, though there may be diminishing returns, there will be no point, in principle, at which progress will stop.  This was not the case for Illich.  He hypothesized a second watershed, which he thought was already being  crossed and even exceeded around the time he was writing.  Beyond this second watershed, he supposed, what he called counterproductivity would set in – medical intervention would begin to defeat its own objects, generating more harm than good.  This, he argued, was characteristic of any institution, good or service – a point could be identified at which there was enough of it and, after which, there would be too much.  Tools for Conviviality, was an attempt to identify these “natural scales” – the only such general and programmatic search for a philosophy of technology that Illich undertook.Two years later in Medical Nemesis – later renamed, in its final and most comprehensive edition, Limits to Medicine – Illich tried to lay out in detail the goods and the harms that medicine does.  He was generally favourable to the large-scale innovations in public health that have given us good food, safe water, clean air, sewage disposal etc.  He also praised efforts then underway in China and Chile to establish a basic medical toolkit and pharmacopeia that would be available and affordable for all citizens, rather than allowing medicine to develop luxury goods that would remain forever out of reach of the majority.  But the main point of his book was to identify and describe the counterproductive effects that he felt were becoming evident as medicine crossed its second watershed.  He spoke of these fall-outs from too much medicine as iatrogenesis, and addressed them under three headings: clinical, social and cultural.  The first everyone, by now, understands – you get the wrong diagnosis, the wrong drug, the wrong operation, you get sick in hospital etc.  This collateral damage is not trivial.  An article in the Canadian magazine The Walrus – Rachel Giese, “The Errors of Their Ways, April 2012 – estimated 7.5% of the Canadians admitted to hospitals every year suffer at least one “adverse event” and 24,000 die as a result of medical mistakes. Around the same time, Ralph Nader, writing in Harper’s Magazine, suggested that the number of people in the United States who die annually as a result of preventable medical errors is around 400,000.  This is an impressive number, even if exaggerated – Nader’s estimate is twice as high per capita as The Walrus’s – but this accidental harm was not, by any means, Illich’s focus.  What really concerned him was the way in which excessive medical treatment weakens basic social and cultural aptitudes.  An instance of what he called social iatrogenesis is the way in which the art of medicine, in which the physician acts as healer, witness, and counsellor, tends to give way to the science of medicine, in which the doctor, as a scientist, must, by definition, treat his or her patient as an experimental subject and not as a unique case.  And, finally, there was the ultimate injury that medicine inflicts: cultural iatrogenesis.  This occurs, Illich said, when cultural abilities, built up and passed on over many generations, are first undermined and then, gradually, replaced altogether.  These abilities include, above all, the willingness to suffer and bear one’s own reality, and the capacity to die one’s own death.  The art of suffering was being overshadowed, he argued, by the expectation that all suffering can and should be immediately relieved – an attitude which doesn’t, in fact, end suffering but rather renders it meaningless, making it merely an anomaly or technical miscarriage.   And death, finally, was being transformed from an intimate, personal act – something each one can do – into a meaningless defeat – a mere cessation of treatment or “pulling the plug,” as is sometimes heartlessly said.  Behind Illich’s arguments lay a traditional Christian attitude.  He affirmed that suffering and  death are inherent in the human condition – they are part of what defines this condition.  And he argued that the loss of this condition would involve a catastrophic rupture both with our past and with our own creatureliness.  To mitigate and ameliorate the human condition was good, he said.  To lose it altogether was a catastrophe because we can only know God as creatures – i.e. created or given beings – not as gods who have taken charge of our own destiny.Medical Nemesis is a book about professional power – a point on which it’s worth dwelling for a moment in view of the extraordinary powers that are currently being asserted in the name of public health.  According to Illich, contemporary medicine, at all times, exercises political power, though this character may be hidden by the claim that all that is being asserted is care.  In the province of Ontario where I live, “health care” currently gobbles up more than 40% of the government’s budget, which should make the point clearly enough.  But this everyday power, great as it is, can be further expanded by what Illich calls “the ritualization of crisis.”  This confers on medicine “a license that usually only the military can claim.”  He continues:Under the stress of crisis, the professional who is believed to be in command can easily presume immunity from the ordinary rules of justice and decency.  He who is assigned control over death ceases to be an ordinary human…Because they form a charmed borderland not quite of this world, the time-span and the community space claimed by the medical enterprise are as sacred as their religious and military counterparts.In a footnote to this passage Illich adds that “he who successfully claims power in an emergency suspends and can destroy rational evaluation.  The insistence of the physician on his exclusive capacity to evaluate and solve individual crises moves him symbolically into the neighborhood of the White House.”  There is a striking parallel here with the German jurist Carl Schmitt’s claim in his Political Theology that the hallmark of true sovereignty is the power to “decide on the exception.”  Schmitt’s point is that sovereignty stands above law because in an emergency the sovereign can suspend the law – declare an exception – and rule in its place as the very source of law.   This is precisely the power that Illich says the physician “claims…in an emergency.”  Exceptional circumstances make him/her “immune” to the “ordinary rules” and able to make new ones as the case dictates.  But there is an interesting and, to me, telling difference between Schmitt and Illich.  Schmitt is transfixed by what he calls “the political.”  Illich notices that much of what Schmitt calls sovereignty has escaped, or been usurped from the political realm and reinvested in various professional hegemonies.  Ten years after Medical Nemesis was published, Illich revisited and revised his argument.  He did not, by any means, renounce what he had written earlier, but he did add to it quite dramatically.  In his book, he now said, he had been “blind to a much more profound symbolic iatrogenic effect: the iatrogenesis of the body itself.”  He had “overlooked the degree to which, at mid-century, the experience of ‘our bodies and our selves’ had become the result of medical concepts and cares.”  In other words he had written, in Medical Nemesis, as if there were a natural body, standing outside the web of techniques by which its self-awareness is constructed, and now he could see that there is no such standpoint.  “Each historical moment,” he wrote, “is incarnated in an epoch-specific body.”  Medicine doesn’t just act on a preexisting state – rather it participates in creating this state.This recognition was just the beginning of a new stance on Illich’s part.  Medical Nemesis had addressed a citizenry that was imagined as capable of acting to limit the scope of medical intervention.  Now he spoke of people whose very self-image was being generated by bio-medicine.  Medical Nemesis had claimed, in its opening sentence, that “the medical establishment has become a major threat to health.”  Now he judged that that the major threat to health was the pursuit of health itself.   Behind this change of mind lay his sense that the world, in the meanwhile, had undergone an epochal change.  “I believe,” he told me in 1988, “that…there [has been] a change in the mental space in which many people live.  Some kind of a catastrophic breakdown of one way of seeing things has led to the emergence of a different way of seeing things.  The subject of my writing has been the perception of sense in the way we live; and, in this respect, we are, in my opinion, at this moment, passing over a watershed.  I had not expected in my lifetime to observe this passage.”  Illich characterized “the new way of seeing things” as the advent of what he called “the age of systems” or “an ontology of systems.”  The age that he saw as ending had been dominated by the idea of instrumentality – of using instrumental means, like medicine, to achieve some end or good, like health.  Characteristic of this age was a clear distinction between subjects and objects, means and ends, tools and their users etc.  In the age of systems, he said, these distinctions have collapsed.  A system, conceived cybernetically, is all encompassing – it has no outside.  The user of a tool takes up the tool to accomplish some end.  Users of systems are inside the system, constantly adjusting their state to the system, as the system adjusts its state to them.  A bounded individual pursuing personal well-being gives way to an immune system which constantly recalibrates its porous boundary with the surrounding system.Within this new “system analytic discourse,” as Illich named it, the characteristic state of people is disembodiment.  This is a paradox, obviously, since what Illich called “the pathogenic pursuit of health” may involve an intense, unremitting and virtually narcissistic preoccupation with one’s bodily state.  Why Illich conceived it as disembodying can best be understood by the example of “risk awareness” which he called “the most important religiously celebrated ideology today.”  Risk was disembodying, he said, because “it is a strictly mathematical concept.”  It does not pertain to persons but to populations – no one knows what will happen to this or that person, but what will happen to the aggregate of such persons can be expressed as a probability.   To identify oneself with this statistical figment is to engage, Illich said, in “intensive self-algorithmization.”  His most distressing encounter with this “religiously celebrated ideology” occurred in the field of genetic testing during pregnancy.  He was introduced to it by his friend and colleague Silja Samerski who was studying the genetic counselling that is mandatory for pregnant women considering genetic testing in Germany – a subject she would later write about in a book called The Decision Trap (Imprint-Academic, 2015).  Genetic testing in pregnancy does not reveal anything definite about the child which the woman being tested is expecting.  All it detects are markers whose uncertain meaning can be expressed in probabilities – a likelihood calculated across the entire population to which the one being tested belongs, by her age, family history, ethnicity etc.  When she is told, for example, that there is a 30% chance that her baby will have this or that syndrome, she is told nothing about herself or the fruit of her womb – she is told only what might happen to someone like her.  She knows nothing more about her actual circumstances than what her hopes, dreams and intuitions reveal, but the risk profile that has been ascertained for her statistical doppelgänger demands a decision.  The choice is existential; the information on which it is based is the probability curve on which the chooser has been inscribed.  Illich found this to be a perfect horror.  It was not that he could not recognize that all human action is a shot in the dark – a prudential calculation in the face of the unknown.  His horror was at seeing people reconceive themselves in the image of a statistical construct.  For him, this was an eclipse of persons by populations; an effort to prevent the future from disclosing anything unforeseen; and a substitution of scientific models for sensed experience. And this was happening, Illich realized, not just with regard to genetic testing in pregnancy but more or less across the board in health care.  Increasingly people were acting prospectively, probabilistically, according to their risk.  They were becoming, as Canadian health researcher Allan Cassels once joked, “pre-diseased” – vigilant and active against illnesses that someone like them might get.  Individual cases were increasingly managed as general cases, as instances of a category or class, rather than as unique predicaments, and doctors were increasingly the servo-mechanisms of this cloud of probabilities rather than intimate advisors alert to specific differences and personal meanings.  This was what Illich meant by “self-algorithmization” or disembodiment.One way of getting at the iatrogenic body that Illich saw as the primary effect of contemporary biomedicine is by going back to an essay that was widely read and discussed in his milieu in the early 1990’s.  Called “The Biopolitics of Postmodern Bodies: Constitutions of Self in Immune System Discourse,” it was written by historian and philosopher of science Donna Haraway and appears in her 1991 book Simians, Cyborgs and Women: The Reinvention of Nature. This essay is interesting not just because I think it influenced Illich’s sense of how bio-medical discourse was shifting, but also because Haraway, seeing – I would claim – almost exactly the same things as Illich, draws conclusions that are, point-for-point, diametrically opposite.  In this article, for example, she says, with reference to what she calls “the post-modern body,” that “human beings, like any other component or subsystem, must be localized in a system architecture whose basic modes of operation are probabilistic, statistical.”  “In a sense,” she continues, “organisms have ceased to exist as objects of knowledge, giving way to biotic components.”  This leads to a situation in which “no objects, spaces or bodies are sacred in themselves; and components can be interfaced with any other if the proper standard, the proper code, can be constructed for processing signals in a common language.”In a world of interfaces, where boundaries regulate “rates of flow” rather than marking real differences, “the integrity of natural objects” is no longer a concern.  “The ‘integrity’ or ‘sincerity’ of the Western self,” she writes, “gives way to decision procedures, expert systems, and resource investment strategies.”In other words, Haraway, like Illich understands that persons, as unique, stable and hallowed beings, have dissolved into provisionally self-regulating sub-systems in constant interchange with the larger systems in which they are enmeshed.  In her words, “we are all chimeras, theorized and fabricated hybrids of machine and organism…the cyborg is our ontology.”  The difference between them lies in their reactions.  Haraway, elsewhere in the volume from which the essay I have been quoting comes, issues what she calls her “Cyborg Manifesto.”  It calls on people to recognize and accept this new situation but to “read it” with a view to liberation.  In a patriarchal society, there is no acceptable condition to which one could hope to return, so she offers “an argument for pleasure in the confusion of boundaries and for responsibility in their construction.”  For Illich, on the other hand, the “cyborg ontology,” as Haraway calls it, was not an option.  For him what was at stake was the very character of human persons as ensouled beings with a divine origin and a divine destiny.  As the last vestiges of sense washed out of the bodily self-perception of his contemporaries, he saw a world that had become “immune to its own salvation.”  “I have come to the conclusion,” he told me plaintively, “that when the angel Gabriel told that girl in the town of Nazareth in Galilee that God wanted to be in her belly, he pointed to a body which has gone from the world in which I live.”The “new way of seeing things” which was reflected in the orientation of bio-medicine amounted, according to Illich, to “a new stage of religiosity.” He used the word religiosity in a broad sense to refer to something deeper and more pervasive than formal or institutional religion.  Religiosity is the ground on which we stand, our feeling about how and why things are as they are, the very horizon within which meaning takes shape.  For Illich, the createdness, or given-ness of the world was the foundation of his entire sensibility.  What he saw coming was a religiosity of total immanence in which the world is its own cause and there is no source of meaning or order outside of it – “a cosmos,” as he said, “in the hands of man.”  The highest good in such a world is life, and the primary duty of people is to conserve and foster life.  But this is not the life which is spoken of in the Bible – the life which comes from God – it is a rather a resource which people possess and ought to manage responsibly.  Its peculiar property is to be at the same time an object of reverence and of manipulation.  This naturalized life, divorced from its source, is the new god.  Health and safety are its adjutants.  Its enemy is death.   Death still imposes a final defeat but has no other personal meaning.  There is no proper time to die – death ensues when treatment fails or is terminated.  Illich refused to “interiorize systems into the self.”  He would give up neither human nature nor natural law. “I just cannot shed the certainty,” he said in an interview with his friend Douglas Lummis, “that the norms with which we ought to live correspond to our insight into what we are.”  This led him to reject “responsibility for health,” conceived as a management of intermeshed systems.  How can one be responsible, he asked, for what has neither sense, boundary nor ground?  Better to give up such comforting illusions and to live instead in a spirit of self-limitation which he defined as “courageous, disciplined, self-critical renunciation accomplished in community.”  To summarize: Illich, in his later years, concluded that humanity, at least in his vicinity, had taken leave of its senses and moved lock, stock and barrel into a system construct lacking any ground whatsoever for ethical decision.  The bodies in which people lived and walked around had become synthetic constructs woven out of CAT-scans and risk curves.  Life had become a quasi-religious idol, presiding over an “ontology of systems.” Death had become a meaningless obscenity rather than an intelligible companion.  All this was expressed forcefully and unequivocally.  He did not attempt to soften it or offer a comforting “on the other hand…”. What he attended to was what he sensed was happening around him, and all his care was to try to register it as sensitively as he could and address it as truthfully as he could.  The world, in his view, was not in his hands, but in the hands of God.      By the time he died, in 2002, Illich stood far outside the new “way of seeing things” that he felt had established itself during the second half his life.  He felt that in this new “age of systems” the primary unit of creation, the human person, had begun to lose its boundary, its distinction and its dignity.  He thought that the revelation in which he was rooted had been corrupted – the “life more abundant” that had been promised in the New Testament transformed into a human hegemony so total and so claustrophobic that no intimation from outside the system could disturb it.  He believed that medicine had so far exceeded the threshold at which it might have eased and complemented the human condition that it was now threatening to abolish this condition altogether.  And he had concluded that much of humanity is no longer willing to “bear…[its] rebellious, torn and disoriented flesh” and has instead traded its art of suffering and its art of dying for a few years of life expectancy and the comforts of life in an “artificial creation.”  Can any sense be made of the current “crisis” from this point of view?  I would say yes, but only insofar as we can step back from the urgencies of the moment and take time to consider what is being revealed about our underlying dispositions – our “certainties,” as Illich called them.  First of all, Illich’s perspective indicates that for some time now we’ve been practicing the attitudes that have characterized the response to the current pandemic.  It’s a striking thing about events which are perceived to have changed history, or “changed everything,” as one sometimes hears, that people often seem to be somehow ready for them or even unconsciously or semi-consciously expecting them.  Recalling the beginning of the First World War, economic historian Karl Polanyi used the image of sleep-walking to characterize the way in which the countries of Europe shuffled to their doom – automatons blindly accepting the fate they had unknowingly projected.   The events of Sept. 11, 2001 – 9/11 as we now know it – seemed to be instantly interpreted and understood, as if everyone had just been waiting to declare the patent meaning of what had occurred – the end of the Age of Irony, the beginning of the War on Terror, whatever it might be.  Some of this is surely a trick of perspective by which hindsight instantly turns contingency into necessity – since something did happen, we assume that it was bound to happen all along.  But I don’t think this can be the whole story.  At the heart of the coronavirus response has been the claim that we must act prospectively to prevent what has not yet occurred: an exponential growth in infections, an overwhelming of the resources of the medical system, which will put medical personnel in the invidious position of performing triage, etc.  Otherwise, it is said, by the time we find out what we’re dealing with, it will be too late.  (It’s worth pointing out, in passing, that this is unverifiable idea: if we succeed, and what we fear does not take place, then we will be able to say that our actions prevented it, but we will never actually know whether this was the case.). This idea that prospective action is crucial has been readily accepted, and people have even vied with one in another in denouncing the laggards who have shown resistance to it.  But to act like this requires experience in living in a hypothetical space where prevention outranks cure, and this is exactly what Illich describes when he speaks of risk as “the most important religiously celebrated ideology today.”  An expression like “flattening the curve” can become overnight common sense only in a society practiced in “staying ahead of the curve” and in thinking in terms of population dynamics rather than actual cases.Risk has a history.  One of the first to identify it as the preoccupation of a new form of society was German sociologist Ulrich Beck in his 1986 book Risk Society, published in English in 1992.  In this book, Beck portrayed late modernity as an uncontrolled science experiment.  By uncontrolled he meant that we have no spare planet on which we can conduct a nuclear war to see how it goes, no second atmosphere which we can heat and observe the results.  This means that techno-scientific society is, on the one hand, hyper-scientific and, on the other, radically unscientific insofar as it has no standard against which it can measure or assess what it has done.  There are endless examples of this sort of uncontrolled experiment – from transgenic sheep to mass international tourism to the transformation of persons into communications relays.  All these, insofar as they have unforeseeable and unpredictable consequences, already constitute a kind of living in the future.  And just because we are citizens of risk society, and therefore participants by definition, in an uncontrolled science experiment, we have become – paradoxically or not – preoccupied with controlling risk.  As I pointed out above, we are treated and screened for diseases we do not yet have, on the basis of our probability of getting them.  Pregnant couples make life and death decisions based on probabilistic risk profiles.  Safety becomes a mantra – “farewell” becomes “be safe” – health becomes a god.  Equally important in the current atmosphere has been the idolization of life, and aversion from its obscene other, death.  That we must at all costs “save lives” is not questioned.  This makes it very easy to start a stampede.  Making an entire country “go home and stay home,” as our prime minister said not long ago, has immense and incalculable costs.  No one knows how many businesses will fail, how many jobs will be lost, how many will sicken from loneliness, how many will resume addictions or beat each other up in their isolation.  But these costs seem bearable as soon the spectre of lives lost is brought on the scene.  Again, we have been practicing counting lives for a long time. The obsession with the “death toll” from the latest catastrophe is simply the other side of the coin.  Life becomes an abstraction – a number without a story.  Illich claimed in the mid-1980’s that he was beginning to meet people whose “very selves” were a product of “medical concepts and cares.”  I think this helps to explain why the Canadian state, and its component provincial and municipal governments, have largely failed to acknowledge what is currently at stake in our “war” on “the virus.”  Sheltering behind the skirts of science – even where there is no science – and deferring to the gods of health and safety has appeared to them as political necessity.  Those who have been acclaimed for their leadership, like Quebec premier François Legault, have been those who have distinguished themselves by their single-minded consistency in applying the conventional wisdom.  Few have yet dared to question the cost – and, when those few include Donald Trump, the prevailing complacency is only fortified – who would dare agree with him?  In this respect insistent repetition of the metaphor of war has been influential – in a war no one counts costs or reckons who is actually paying them.  First, we must win the war.  Wars create social solidarity and discourage dissent – those not showing the flag are apt to be shown the equivalent of the white feather with which non-combatants were shamed during World War One.  At the date at which I am writing – early April – no one really knows what is going on.  Since no one knows how many have the disease, nobody knows what the death rate is – Italy’s is currently listed at over 10%, which puts it in the range of the catastrophic influenza at the end of World War I, while Germany’s is at .8%, which is more in line with what happens unremarked every year – some very old people, and a few younger ones, catch the flu and die.  What does seem clear, here in Canada, is that, with the exception of a few local sites of true emergency, the pervasive sense of panic and crisis is largely a result of the measures taken against the pandemic and not of the pandemic itself.  Here the word itself has played an important role – the declaration by the World Health Organization that a pandemic was now officially in progress didn’t change anyone’s health status but it dramatically changed the public atmosphere.  It was the signal the media had been waiting for to introduce a regime in which nothing else but the virus could be discussed.  By now a story in the newspaper not concerned with coronavirus is actually shocking.  This cannot help but give the impression of a world on fire.  If you talk about nothing else, it will soon come to seem as if there is nothing else.  A bird, a crocus, a spring breeze can begin to seem almost irresponsible – “don’t they know it’s the end of the world?” as an old country music classic asks.  The virus acquires extraordinary agency – it is said to have depressed the stock market, shuttered businesses, and generated panic fear, as if these were not the actions of responsible people but of the illness itself.  Emblematic for me, here in Toronto, was a headline in The National Post.  In a font that occupied much of the top half of the front page, it said simply PANIC.  Nothing indicated whether the word was to be read as a description or an instruction.  This ambiguity is constitutive of all media, and disregarding it is the characteristic déformation professionelle of the journalist, but it becomes particularly easy to ignore in a certified crisis.  It is not the obsessive reporting or the egging on of authorities to do more that has turned the world upside down – it is the virus that has done it.  Don’t blame the messenger.  A headline on the web-site STAT on April 1, and I don’t think it was a joke, even claimed that “Covid-19 has sunk the ship of state.”  It is interesting, in this respect, to perform a thought experiment.  How much of an emergency would we feel ourselves to be in if this had never been called a pandemic and such stringent measures taken against it?  Plenty of troubles escape the notice of the media.  How much do we know or care about the catastrophic political disintegration of South Sudan in recent years, or about the millions who died in the Democratic Republic of Congo after civil war broke out there in 2004?  It is our attention that constitutes what we take to be the relevant world at any given moment.  The media do not act alone – people must be disposed to attend where the media directs their attention – but I don’t think it can be denied that the pandemic is a constructed object that might have been constructed differently.Canadian Prime Minister Justin Trudeau remarked on March 25th that we are facing “the greatest health care crisis in our history.”  If he is understood to be referring to a health crisis, this seems to me a grotesque exaggeration.  Think of the disastrous effect of smallpox on indigenous communities, or of a score of other catastrophic epidemics from cholera and yellow fever to diphtheria and polio.  Can you then really say that a flu epidemic which appears mainly to kill the old or those made susceptible by some other condition is even comparable to the ravaging of whole peoples, let alone worse?    And yet, unprecedented, like the Prime Minister’s “greatest ever,” seems to be the word on everyone’s lips.  However, if we take the Prime Minister’s words by the letter, as referring to health care, and not just health, the case changes.   From the beginning the public health measures taken in Canada have been explicitly aimed at protecting the health care system from any overload.  To me this points to an extraordinary dependence on hospitals and an extraordinary lack of confidence in our ability to care for one another.  Whether Canadian hospitals are ever flooded or not, a strange and fearful mystique seems to be involved – the hospital and its cadres are felt to be indispensable, even when things could be more easily and safely dealt with at home. Again Illich was prescient in his claim, in his essay “Disabling Professions,” that overextended professional hegemonies sap popular capacities and make people doubt their own resources.  The measures mandated by “the greatest health care crisis in our history” have involved a remarkable curtailing of civil liberty.  This has been done, it is said, to protect life and, by the same token, to avoid death.  Death is not only to be averted but also kept hidden and unconsidered.  Years ago I heard a story about a bemused listener at one of Illich’s lectures on Medical Nemesis who afterwards turned to his companion and asked, “What does he want, let people die?”  Perhaps some of my readers would like to ask me the same question.  Well, I’m sure there are many other old people who would join me in saying that they don’t want to see young lives ruined in order that they can live a year or two longer.  But, beyond that, “let people die” is a very funny formulation because it implies that the power to determine who lives or dies is in the hands of the one to whom the question is addressed.  The we who are imagined as having the power to “let die” exist in an ideal world of perfect information and perfect technical mastery.  In this world nothing occurs which has not been chosen.  If someone dies, it will be because they have been “let…die.”  The state must, at all costs, foster, regulate and protect life – this is the essence of what Michel Foucault called biopolitics, the regime that now unquestionably rules us.  Death must be kept out of sight and out of mind.  It must be denied meaning.  No one’s time ever comes – they are let go.  The grim reaper may survive as a comic figure in New Yorker cartoons, but he has no place in public discussion.  This makes it difficult even to talk about death as something other than someone’s negligence or, at the least, a final exhaustion of treatment options.  To accept death is to accept defeat.The events of recent weeks reveal how totally we live inside systems, how much we have become populations rather than associated citizens, how much we are governed by the need to continually outsmart the future we ourselves have prepared.  When Illich wrote books like Tools for Conviviality and Medical Nemesis, he still hoped that life within limits was possible.  He tried to identify the thresholds at which technology must be restrained in order to keep the world at the local, sensible, conversable scale on which human beings could remain the political animals that Aristotle thought we were meant to be.  Many others saw the same vision, and many have tried over the last fifty years to keep it alive.  But there is no doubt that the world Illich warned of has come to pass.  It is a world which lives primarily in disembodied states and hypothetical spaces, a world of permanent emergency in which the next crisis is always right around the corner, a world in which the ceaseless babble of communication has stretched language past its breaking point, a world in which overstretched science has become indistinguishable from superstition.  How then can Illich’s ideas possibly gain any purchase in a world that seems to have moved out of reach of his concepts of scale, balance, and personal meaning?  Shouldn’t one just accept that the degree of social control that has recently been exerted is proportionate and necessary in the global immune system of which we are, in Haraway’s expression, “biotic components?”Perhaps, but it’s an old political axiom which can be found in Plato, Thomas More, and, more recently, Canadian philosopher George Grant that if you can’t achieve the best, at least prevent the worst.  And things can certainly get worse as a result of this pandemic.  It has already become a somewhat ominous commonplace that the world will not be the same once it is over.  Some see it as a rehearsal and admit frankly that, though this particular plague may not fully justify the measures being taken against it, these measures still constitute a valuable rehearsal for future and potentially worse plagues.  Others view it as a “wake-up call” and hope that, when it’s all over, a chastened humanity will begin to edge its way back from the lip of catastrophe.  My fear, and one that I think is shared by many, is that it will leave behind a disposition to accept much increased surveillance and social control, more telescreens and telepresencing, and heightened mistrust.  At the moment, everyone is optimistically describing physical distancing as a form of solidarity, but it’s also practice in regarding one another, and even ourselves – “don’t touch your face” – as potential disease vectors.  I have said already that one of the certainties that the pandemic is driving deeper into the popular mind is risk.  But this is easy to overlook since risk is so easily conflated with real danger. The difference, I would say, is that danger is identified by a practical judgment resting on experience, whereas risk is a statistical construct pertaining to a population.  Risk has no room for individual experience or for practical judgment.  It tells you only what will happen in general.  It is an abstract of a population, not a picture of any person, or a guide to that person’s destiny.  Destiny is a concept that simply dissolves in the face of risk, where all are arrayed, uncertainly, on the same curve.  What Illich calls “the mysterious historicity” of each existence – or, more simply, its meaning – is annulled.  During this pandemic, risk society has come of age.  This is evident, for example, in the tremendous authority that has been accorded to models – even when everyone knows that they are informed by little more than what one hopes are educated guesses.  Another illustration is the familiarity with which people speak of “flattening the curve,” as if this were an everyday object – I have even recently heard songs about it.  When it becomes an object of public policy to operate on a purely imaginary, mathematical object, like a risk curve, it is certain that risk society has taken a great leap forward.   This, I think, is what Illich meant about disembodiment – the impalpable become palpable, the hypothetical becomes actual, and the realm of everyday experience becomes indistinguishable from its representation in newsrooms, laboratories and statistical models.  Humans have lived, at all times, in imagined worlds, but this, I think, is different.  In the sphere of religion, for example, even the most naïve believers have the sense that the beings they summon and address in their gatherings are not everyday objects.  In the discourse of the pandemic, everyone consorts familiarly with scientific phantoms as if there were as real as rocks and trees.  Another related feature of the current landscape is government-by-science and its necessary complement – the abdication of political leadership resting on any other grounds.   This too is a field long-tilled and prepared for planting.  Illich wrote nearly fifty years ago in Tools for Conviviality that contemporary society is “stunned by a delusion about science.”  This delusion takes many forms, but its essence is to construct out of the messy, contingent practices of a myriad of sciences a single golden calf before which all must bow.  It is this giant mirage that is usually invoked when we are instructed to “listen to the science” or told what “studies show” or “science says.” But there is no such thing as science, only sciences, each one with its unique uses and unique limitations.   When “science” is abstracted from all the vicissitudes and shadows of knowledge production, and elevated into an omniscient oracle whose priests can be identified by their outfits, their solemn postures and their impressive credentials, what suffers, in Illich’s view, is political judgment.  We do not do what appears good to our rough and ready sense of how things are down here on the ground but only what can be dressed up as science says.   In a book called Rationality and Ritual, British sociologist of science Brian Wynne studied a public inquiry carried out by a British High Court Judge in 1977 on the question of whether a new plant should be added to the British nuclear energy complex at Sellafield on the Cumbrian coast.   Wynne shows how the judge approached the question as one which “science” would answer – is it safe? – without any need to consult moral or political principles.  This is a classic case of the displacement of political judgment onto the shoulders of Science, conceived along the mythical lines I sketched above.  This displacement is now evident in many fields.  One of its hallmarks is that people, thinking that “science” knows more than it does, imagine that they know more than they do.  No actual knowledge need support this confidence.  Epidemiologists may say frankly, as many have, that, in the present case, there is very little sturdy evidence to go on, but this has not prevented politicians from acting as if they were merely the executive arm of Science.  In my opinion, the adoption of a policy of semi-quarantining those who are not sick – a policy apt to have disastrous consequences down the road in lost jobs, failed businesses, distressed people, and debt-suffocated governments – is a political decision and ought to be discussed as such.  But, at the moment, the ample skirts of Science shelter all politicians from view.  Nor does anyone speak of impending moral decisions.  Science will decide.In his late writings Illich introduced, but never really developed, a concept that he called “epistemic sentimentality” – not a catchy phrase, admittedly, but one that I think sheds on light on what is currently going on.  His argument, in brief, was that we live in a world of “fictitious substances” and “management-bred phantoms” – any number of nebulous goods from institutionally-defined education to the “pathogenic pursuit of health” could serve as examples – and that in this “semantic desert full of muddled echoes” we need “some prestigious fetish” to serve as a “Linus blanket.”  In the essay I’ve been quoting “Life” is his primary example.  “Epistemic sentimentality” attaches itself to Life, and Life becomes the banner under which projects of social control and technological overreach acquire warmth and lustre.  Illich calls this  epistemic sentimentality because it involves constructed objects of knowledge that are then naturalized under the kindly aegis of the “prestigious fetish.”  In the present case we are frantically saving lives and protecting our health care system.  These noble objects enable a gush of sentiment which is very hard to resist.  For me it is summed up in the almost unbearably unctuous tone in which our Prime Minister now addresses us daily.  But who is not in an agony of solicitude?  Who has not said that we are avoiding each other because of the depth of our care for one another?  This is epistemic sentimentality not just because it solaces us and makes a ghostly reality seem humane but also because it hides the other things that are going on – like the mass experiment in social control and social compliance, the legitimation of tele-presence as a mode of sociability and of instruction, the increase of surveillance, the normalization of biopolitics, and the reinforcement of risk awareness as a foundation of social life.  Another concept that I believe Illich has to contribute to current discussion is the idea of “dynamic balances” that he develops in Tools for Conviviality. This thought came to me recently while reading, in the Chronicle of Higher Education, a refutation of Italian philosopher Giorgio Agamben’s dissident position on the pandemic. Agamben had written earlier against the inhumanity of a policy that lets people die alone and then outlaws funerals, arguing that a society which sets “bare life” higher than the preservation of its own way of life has embraced what amounts to a fate worse than death.  Fellow philosopher Anastasia Berg, in her response, expresses respect for Agamben, but then claims that he has missed the boat.  People are cancelling funerals, isolating the sick and avoiding one another not because mere survival has become the be-all and end-all of public policy, as Agamben claims, but in a spirit of loving sacrifice which Agamben is too obtuse and theory- besotted to notice.  The two positions appear starkly opposed, and the choice an either/or.  One either views social distancing, with Anastasia Berg, as a paradoxical and sacrificial form of solidarity, or one views it with Agamben as a fateful step into a world where inherited ways of life dissolve in an ethos of survival at all costs.  What Illich tried to argue in Tools for Conviviality is that public policy must always strike a balance between opposed domains, opposed rationalities, opposed virtues.  The whole book is an attempt to discern the point at which serviceable tools – tools for conviviality – turn into tools which become ends in themselves and begin to dictate to their users.  In the same way he tried to distinguish practical political judgment from expert opinion, home-made speech from the coinages of mass media, vernacular practices from institutional norms.  Many of these attempted distinctions have since drowned in the monochrome of “the system,” but the idea can still be helpful I think.  It encourages us to ask the question, what is enough? where is the point of balance?  Right now this question is not asked because the goods we pursue are generally taken to be unlimited – we cannot, by assumption, have too much education, too much health, too much law, or too much of any of the other institutional staples on which we lavish our hope and our substance.  But what if the question were revived?  This would require us to ask in what way Agamben might be right, while still allowing Berg’s point.  Perhaps a point of balance could be found. But this would require some ability to sustain a divided mind – the very hallmark of thinking, according to Hannah Arendt – as well as the resuscitation of political judgment.   Such an exercise of political judgment would involve a discussion of what is being lost in the present crisis as well as what is being gained.  But who deliberates in an emergency?    Total mobilization – total preoccupation – the feeling that everything has changed – the certainty of living in a state of exception rather than in ordinary time – all these things militate against political deliberation.  This is a vicious circle: we can’t deliberate because we’re in an emergency, and we’re in an emergency because we can’t deliberate.  The only way out of the circle is by the way in – the way created by assumptions that have become so ingrained as to seem obvious.  Illich had a sense, during the last twenty years of his life, of a world immured in “an ontology of systems,” a world immune to grace, alienated from death, and totally convinced of its duty to manage every eventuality – a world, as he once put it, in which “exciting, soul-capturing abstractions have extended themselves over the perception of world and self like plastic pillowcases.”  Such a view does not readily lend itself to policy prescriptions.  Policy is made in the moment according to the exigencies of the moment.  Illich was talking about modes of sensing, of thinking, and of feeling that had crept into people at a much deeper level.  Accordingly, I hope that no one who has read this far thinks that I have been making facile policy proposals rather than trying to describe a fate that all share.  Still my view of the situation is probably clear enough from what I have written.  I think this tunnel we have entered – of physical distancing, flattening the curve etc. – will be very hard to get out of – either we call it off soon and face the possibility that it was all for naught, or we extend it and create harms that may be worse than the casualties we have averted.  This is not to say we should do nothing.  It is a pandemic.  But it would have been better, in my view, to try and keep going and used targeted quarantine for the demonstrably ill and their contacts.  Close baseball stadiums and large hockey arenas, by all means, but keep small businesses open and attempt to space the customers in the same way as the stores that have stayed open are doing.  Would more then die?  Perhaps, but this is far from clear.  And that’s exactly my point: no one knows.  Swedish economist Fredrik Erixon, the director of the European Centre for International Political Economy, made the same point recently in defence of Sweden’s current policy of precaution without shut-down. “The theory of lockdown,” he says, is “untested” – which is true – and, consequently, “It’s not Sweden that’s conducting a mass experiment. It’s everyone else.”  But, to say it again, my intention here is not to contest policy but to bring to light the practiced certainties that make our current policy seem incontestable.  Let me take a final example.  Recently a Toronto newspaper columnist suggested that the current emergency can be construed as a choice between “saving the economy” or “saving granny.”  In this figure two prime certainties are pitted against one another.  If we take these phantoms as real things rather than as questionable constructions, we can only end up by setting a price on granny’s head.   Better, I want to argue, to try to think and speak in a different way.  Perhaps the impossible choices thrown up by the world of modelling and management are a sign that things are being framed in the wrong way.  Is there a way to move from granny as a “demographic” to a person who can be nursed and comforted and accompanied to the end of her road; from The Economy as the ultimate abstraction to the shop down the street in which someone has invested all they have and which they may now lose.   At present, “the crisis” holds reality hostage, captive in its enclosed and airless system.  It’s very difficult to find a way of speaking in which life is something other and more than a resource which each of us must responsibly manage, conserve, and, finally, save.   But I think it important to take a careful look at what has come into the light in recent weeks: medical science’s ability to “decide on the exception” and then take power; the media’s power to remake what is sensed as reality, while disowning its own agency;  the abdication of politics before Science, even when there is no science; the disabling of practical judgment; the enhanced power of risk awareness; and the emergence of Life as the new sovereign.   Crises change history but not necessarily for the better.  A lot will depend on what the event is understood to have meant. If, in the aftermath, the certainties I have sketched here are not brought into question, then the only possible outcome I can see is that they will fasten themselves all the more securely on our minds and become obvious, invisible, and unquestionable.Join our mailing listEmailSubmitIll WillPartisan analysis of the presentTwitterTwitter iconInstagramInstagram iconFacebookFacebook iconMastodonPatreonPatreon icon\n"
     ]
    }
   ],
   "source": [
    "#homework, adding url article\n",
    "\n",
    "!pip3 install beautifulsoup4\n",
    "\n",
    "from bs4 import *\n",
    "\n",
    "import requests\n",
    "\n",
    "url2 = 'https://illwill.com/questions-about-the-current-pandemic-from-the-point-of-view-of-ivan-illich'\n",
    "res2 = requests.get(url2)\n",
    "html_page = res2.text\n",
    "\n",
    "# Parse the source code using BeautifulSoup\n",
    "soup = BeautifulSoup(html_page, 'html.parser')\n",
    "\n",
    "# Extract the plain text content\n",
    "text2 = soup.get_text()\n",
    "\n",
    "# Print the plain text\n",
    "print(text2[40:])"
   ]
  },
  {
   "cell_type": "code",
   "execution_count": 92,
   "id": "eefc1284-c206-4cf2-b422-83e32551fe26",
   "metadata": {},
   "outputs": [
    {
     "name": "stdout",
     "output_type": "stream",
     "text": [
      "rejoices in\n",
      "the glory of his chief! The poor and the low find some amends to their\n",
      "immense moral capacity, for their acquiescence in a political and social\n",
      "inferiority.[73] They are content to be brushed like flies from the path\n",
      "of a great person, so that justice shall be done by him to that common\n",
      "nature which it is the dearest desire of all to see enlarged and\n",
      "glorified. They sun themselves in the great man's light, and feel it to\n",
      "be their own element. They cast the dignity of man from their downtrod\n",
      "selves upon the shoulders of a hero, and will perish to add one drop of\n",
      "blood to make that great heart beat, those giant sinews combat and\n",
      "conquer. He lives for us, and we live in him.\n",
      "\n",
      "Men such as they[74] are very naturally seek money or power; and power\n",
      "because it is as good as money,--the \"spoils,\" so called, \"of office.\"\n",
      "And why not? For they aspire to the highest, and this, in their\n",
      "sleep-walking, they dream is highest. Wake them and they shall quit\n",
      "the false good and leap to the true, and leave governments to clerks\n",
      "and desks. This revolution is to be wrought by the gradual\n",
      "domestication of the idea of Culture. The main enterprise of the world\n",
      "for splendor, for extent, is the upbuilding of a man. Here are the\n",
      "materials strewn along the ground. The private life of one man shall\n",
      "be a more illustrious monarchy, more formidable to its enemy, more\n",
      "sweet and serene in its influence to its friend, than any kingdom in\n",
      "history. For a man, rightly viewed, comprehendeth[75] the particular\n",
      "natures of all men. Each philosopher, each bard, each actor has only\n",
      "done for me, as by a delegate, what one day I can do for myself. The\n",
      "books which once we valued more than the apple of the eye, we have\n",
      "quite exhausted. What is that but saying that we have come up with the\n",
      "point of view which the universal mind took through the eyes of one\n",
      "scribe; we have been that man, and have passed on. First, one, then\n",
      "another, we drain all cisterns, and waxing greater by all these\n",
      "supplies, we crave a better and a more abundant food. The man has\n",
      "never lived that can feed us ever. The human mind cannot be enshrined\n",
      "in a person who shall set a barrier on any one side to this unbounded,\n",
      "unboundable empire. It is one central fire, which, flaming now out of\n",
      "the lips of Etna, lightens the capes of Sicily, and now out of the\n",
      "throat of Vesuvius, illuminates the towers and vineyards of Naples. It\n",
      "is one light which beams out of a thousand stars. It is one soul which\n",
      "animates all men.\n",
      "\n",
      "       *       *       *       *       *\n",
      "\n",
      "But I have dwelt perhaps tediously upon this abstraction of the\n",
      "Scholar. I ought not to delay longer to add what I have to say of\n",
      "nearer reference to the time and to this country.\n",
      "\n",
      "Historically, there is thought to be a difference in the ideas which\n",
      "predominate over successive epochs, and there are data for marking the\n",
      "genius of the Classic, of the Romantic, and now of the Reflective or\n",
      "Philosophical age.[76] With the views I have intimated of the oneness\n",
      "or the identity of the mind through all individuals, I do not much\n",
      "dwell on these differences. In fact, I believe each individual passes\n",
      "through all three. The boy is a Greek; the youth, romantic; the\n",
      "adult, reflective. I deny not, however, that a revolution in the\n",
      "leading idea may be distinctly enough traced.\n",
      "\n",
      "Our age is bewailed as the age of Introversion.[77] Must that needs be\n",
      "evil? We, it seems, are critical. We are embarrassed with second\n",
      "thoughts.[78] We cannot enjoy anything for hankering to know whereof\n",
      "the pleasure consists. We are lined with eyes. We see with our feet.\n",
      "The time is infected with Hamlet's unhappiness,--\n",
      "\n",
      "     \"Sicklied o'er with the pale cast of thought.\"[79]\n",
      "\n",
      "Is it so bad then? Sight is the last thing to be pitied. Would we be\n",
      "blind? Do we fear lest we should outsee nature and God, and drink\n",
      "truth dry? I look upon the discontent of the literary class as a mere\n",
      "announcement of the fact that they find themselves not in the state of\n",
      "mind of their fathers, and regret the coming state as untried; as a\n",
      "boy dreads the water before he has learned that he can swim. If there\n",
      "is any period one would desire to be born in, is it not the age of\n",
      "Revolution; when the old and the new stand side by side and admit of\n",
      "being compared; when the energies of all men are searched by fear and\n",
      "by hope; when the historic glories of the old can be compensated by\n",
      "the rich possibilities of the new era? This time, like all times, is a\n",
      "very good one, if we but know what to do with it.\n",
      "\n",
      "I read with some joy of the auspicious signs of the coming days, as\n",
      "they glimmer already through poetry and art, through philosophy and\n",
      "science, through church and state.\n",
      "\n",
      "One of these signs is the fact that the same movement[80] which\n",
      "effected the elevation of what was called the lowest class in the\n",
      "state assumed in literature a very marked and as benign an aspect.\n",
      "Instead of the sublime and beautiful, the near, the low, the common,\n",
      "was explored and poetized. That which had been negligently trodden\n",
      "under foot by those who were harnessing and provisioning themselves\n",
      "for long journeys into far countries, is suddenly found to be richer\n",
      "than all foreign parts. The literature of the poor, the feelings of\n",
      "the child, the philosophy of the street, the meaning of household\n",
      "life, are the topics of the time. It is a great stride. It is a\n",
      "sign--is it not?--of new vigor when the extremities are made active,\n",
      "when currents of warm life run into the hands and the feet. I ask not\n",
      "for the great, the remote, the romantic; what is doing in Italy or\n",
      "Arabia; what is Greek art, or Provençal minstrelsy; I embrace the\n",
      "common, I explore and sit at the feet of the familiar, the low. Give\n",
      "me insight into to-day, and you may have the antique and future\n",
      "worlds. What would we really know the meaning of? The meal in the\n",
      "firkin; the milk in the pan; the ballad in the street; the news of the\n",
      "boat; the glance of the eye; the form and the gait of the body;--show\n",
      "me the ultimate reason of these matters; show me the sublime presence\n",
      "of the highest spiritual cause lurking, as always it does lurk, in\n",
      "these suburbs and extremities of nature; let me see every trifle\n",
      "bristling with the polarity that ranges it instantly on an eternal\n",
      "law;[81] and the shop, the plow, and the ledger referred to the like\n",
      "cause by which light undulates and poets sing;--and the world lies no\n",
      "longer a dull miscellany and lumber-room, but has form and order:\n",
      "there is no trifle, there is no puzzle, but one design unites and\n",
      "animates the farthest pinnacle and the lowest trench.\n",
      "\n",
      "This idea has inspired the genius of Goldsmith,[82] Burns,[83]\n",
      "Cowper,[84] and, in a newer time, of Goethe,[85] Wordsworth,[86] and\n",
      "Carlyle.[87] This idea they have differently followed and with various\n",
      "success. In contrast with their writing, the style of Pope,[88] of\n",
      "Johnson,[89] of Gibbon,[90] looks cold and pedantic. This writing is\n",
      "blood-warm. Man is surprised to find that things near are not less\n",
      "beautiful and wondrous than things remote. The near explains the far.\n",
      "The drop is a small ocean. A man is related to all nature. This\n",
      "perception of the worth of the vulgar is fruitful in discoveries.\n",
      "Goethe, in this very thing the most modern of the moderns, has shown\n",
      "us, as none ever did, the genius of the ancients.\n",
      "\n",
      "There is one man of genius who has done much for this philosophy of\n",
      "life, whose literary value has never yet been rightly estimated:--I\n",
      "mean Emanuel Swedenborg.[91] The most imaginative of men, yet writing\n",
      "with the precision of a mathematician, he endeavored to engraft a\n",
      "purely philosophical Ethics on the popular Christianity of his time.\n",
      "Such an attempt of course must have difficulty which no genius could\n",
      "surmount. But he saw and showed the connexion between nature and the\n",
      "affections of the soul. He pierced the emblematic or spiritual\n",
      "character of the visible, audible, tangible world. Especially did his\n",
      "shade-loving muse hover over and interpret the lower parts of nature;\n",
      "he showed the mysterious bond that allies moral evil to the foul\n",
      "material forms, and has given in epical parables a theory of insanity,\n",
      "of beasts, of unclean and fearful things.\n",
      "\n",
      "Another sign of our times, also marked by an analogous political\n",
      "movement, is the new importance given to the single person. Everything\n",
      "that tends to insulate the individual--to surround him with barriers\n",
      "of natural respect, so that each man shall feel the world is his, and\n",
      "man shall treat with man as a sovereign state with a sovereign\n",
      "state--tends to true union as well as greatness. \"I learned,\" said the\n",
      "melancholy Pestalozzi,[92] \"that no man in God's wide earth is either\n",
      "willing or able to help any other man.\" Help must come from the bosom\n",
      "alone. The scholar is that man who must take up into himself all the\n",
      "ability of the time, all the contributions of the past, all the hopes\n",
      "of the future. He must be an university of knowledges. If there be one\n",
      "lesson more than another that should pierce his ear, it is--The world\n",
      "is nothing, the man is all; in yourself is the law of all nature, and\n",
      "you know not yet how a globule of sap ascends; in yourself slumbers\n",
      "the whole of Reason; it is for you to know all; it is for you to dare\n",
      "all. Mr. President and Gentlemen, this confidence in the unsearched\n",
      "might of man belongs, by all motives, by all prophecy, by all\n",
      "preparation, to the American Scholar. We have listened too long to the\n",
      "courtly muses of Europe. The spirit of the American freeman is already\n",
      "suspected to be timid, imitative, tame. Public and private avarice\n",
      "make the air we breathe thick and fat. The scholar is decent,\n",
      "indolent, complaisant. See already the tragic consequence. The mind of\n",
      "this country, taught to aim at low objects, eats upon itself. There is\n",
      "no work for any one but the decorous and the complaisant. Young men of\n",
      "the fairest promise, who begin life upon our shores, inflat rtunate,\n",
      "substantially on the same ground with all others. Is a man too strong\n",
      "and fierce for society, and by temper and position a bad citizen,--a\n",
      "morose ruffian, with a dash of the pirate in him;--nature sends him a\n",
      "troop of pretty sons and daughters, who are getting along in the\n",
      "dame's classes at the village school, and love and fear for them\n",
      "smooths his grim scowl to courtesy. Thus she contrives to\n",
      "intenerate[100] the granite and felspar, takes the boar out and puts\n",
      "the lamb in, and keeps her balance true.\n",
      "\n",
      "The farmer imagines power and place are fine things. But the President\n",
      "has paid dear for his White House.[101] It has commonly cost him all\n",
      "his peace, and the best of his many attributes. To preserve for a\n",
      "short time so conspicuous an appearance before the world, he is\n",
      "content to eat dust[102] before the real masters who stand erect\n",
      "behind the throne. Or, do men desire the more substantial and\n",
      "permanent grandeur of genius? Neither has this an immunity. He who by\n",
      "force of will or of thought, is great, and overlooks[103] thousands,\n",
      "has the charges of that eminence. With every influx of light comes new\n",
      "danger. Has he light? he must bear witness to the light, and always\n",
      "outrun that sympathy which gives him such keen satisfaction, by his\n",
      "fidelity to new revelations of the incessant soul. He must hate father\n",
      "and mother, wife and child. Has he all that the world loves and\n",
      "admires and covets?--he must cast behind him their admiration, and\n",
      "afflict them by faithfulness to his truth, and become a by-word and a\n",
      "hissing.\n",
      "\n",
      "This law writes the laws of cities and nations. It is in vain to build\n",
      "or plot or combine against it. Things refuse to be mismanaged long.\n",
      "_Res nolunt diu male administrari._[104] Though no checks to a new\n",
      "evil appear, the checks exist, and will appear. If the government is\n",
      "cruel, the governor's life is not safe. If you tax too high, the\n",
      "revenue will yield nothing. If you make the criminal code sanguinary,\n",
      "juries will not convict. If the law is too mild, private vengeance\n",
      "comes in. If the government is a terrific democracy, the pressure is\n",
      "resisted by an overcharge of energy in the citizen, and life glows\n",
      "with a fiercer flame. The true life and satisfactions of man seem to\n",
      "elude the utmost rigors or felicities of condition, and to establish\n",
      "themselves with great indifferency under all varieties of\n",
      "circumstances. Under all governments the influence of character\n",
      "remains the same,--in Turkey and in New England about alike. Under the\n",
      "primeval despots of Egypt, history honestly confesses that man must\n",
      "have been as free as culture could make him.\n",
      "\n",
      "These appearances indicate the fact that the universe is represented\n",
      "in every one of its particles. Everything in nature contains all the\n",
      "powers of nature. Everything is made of one hidden stuff; as the\n",
      "naturalist sees one type under every metamorphosis, and regards a\n",
      "horse as a running man, a fish as a swimming man, a bird as a flying\n",
      "man, a tree as a rooted man. Each new form repeats not only the main\n",
      "character of the type, but part for part all the details, all the\n",
      "aims, furtherances, hindrances, energies, and whole system of every\n",
      "other. Every occupation, trade, art, transaction, is a compend of the\n",
      "world and a correlative of every other. Each one is an entire emblem\n",
      "of human life; of its good and ill, its trials, its enemies, its\n",
      "course and its end. And each one must somehow accommodate the whole\n",
      "man, and recite all his destiny.\n",
      "\n",
      "The world globes itself in a drop of dew.[105] The microscope cannot\n",
      "find the animalcule which is less perfect for being little.[106] Eyes,\n",
      "ears, taste, smell, motion, resistance, appetite, and organs of\n",
      "reproduction that take hold on eternity,--all find room to consist in\n",
      "the small creature. So do we put our life into every act. The true\n",
      "doctrine of omnipresence is, that God reappears with all his parts in\n",
      "every moss and cobweb.[107] The value of the universe contrives to\n",
      "throw itself into every point. If the good is there, so is the evil;\n",
      "if the affinity, so the repulsion; if the force, so the limitation.\n",
      "\n",
      "Thus is the universe alive. All things are moral. That soul, which\n",
      "within us is a sentiment, outside of us is a law. We feel its\n",
      "inspiration; out there in history we can see its fatal strength. \"It\n",
      "is in the world, and the world was made by it.\" Justice is not\n",
      "postponed. A perfect equity adjusts its balance in all parts of life.\n",
      "[Greek: Hoi  kyboi Dios aei eupiptousi],[108]--the dice of God are\n",
      "always loaded. The world looks like a multiplication table, or a\n",
      "mathematical equation, which, turn it how you will, balances itself.\n",
      "Take what figure you will, its exact value, nor more nor less, still\n",
      "returns to you. Every secret is told, every crime is punished, every\n",
      "virtue rewarded, every wrong redressed, in silence and certainty. What\n",
      "we call retribution is the universal necessity by which the whole\n",
      "appears wherever a part appears. If you see smoke, there must be fire.\n",
      "If you see a hand or limb, you know that the trunk to which it belongs\n",
      "is there behind.\n",
      "\n",
      "Every act rewards itself, or, in other words, integrates itself, in a\n",
      "twofold manner; first, in the thing, or in real nature; and secondly,\n",
      "in the circumstance, or in apparent nature. Men call the circumstance\n",
      "the retribution. The causal retribution is in the thing, and is seen\n",
      "by the soul. The retribution in the circumstance is seen by the\n",
      "understanding; it is inseparable from the thing, but is often spread\n",
      "over a long time, and so does not become distinct until after many\n",
      "years. The specific stripes may follow late after the offense, but\n",
      "they follow because they accompany it. Crime and punishment grow out\n",
      "of one stem. Punishment is a fruit that unsuspected ripens within the\n",
      "flower of the pleasure which concealed it. Cause and effect, means and\n",
      "ends, seed and fruit, cannot be severed; for the effect already blooms\n",
      "in the cause, the end preëxists in the means, the fruit in the seed.\n",
      "\n",
      "Whilst thus the world will be whole, and refuses to be disparted, we\n",
      "seek to act partially, to sunder, to appropriate; for example,--to\n",
      "gratify the senses, we sever the pleasure of the senses from the needs\n",
      "of the character. The ingenuity of man has always been dedicated to\n",
      "the solution of one problem,--how to detach the sensual sweet, the\n",
      "sensual strong, the sensual bright, etc., from the moral sweet, the\n",
      "moral deep, the moral fair; that is, again, to contrive to cut clean\n",
      "off this upper surface so thin as to leave it bottomless; to get a\n",
      "_one end_, without an _other end_. The soul says, Eat; the body would\n",
      "feast. The soul says, The man and woman shall be one flesh and one\n",
      "soul; the body would join the flesh only. The soul says, Have dominion\n",
      "over all things to the ends of virtue; the body would have the power\n",
      "over things to its own ends.\n",
      "\n",
      "The soul strives amain[109] to live and work through all things. It\n",
      "would be the only fact. All things shall be added unto it,--power,\n",
      "pleasure, knowledge, beauty. The particular man aims to be somebody;\n",
      "to set up for himself; to truck and higgle for a private good; and, in\n",
      "particulars, to ride, that he may ride; to dress, that he may be\n",
      "dressed; to eat, that he may eat; and to govern, that he may be seen.\n",
      "Men seek to be great; they would have offices, wealth, power, and\n",
      "fame. They think that to be great is to possess one side of\n",
      "nature,--the sweet, without the other side,--the bitter.\n",
      "\n",
      "This dividing and detaching is steadily counteracted. Up to this day,\n",
      "it must be owned, no projector has had the smallest success. The\n",
      "parted water reunites behind our hand. Pleasure is taken out of\n",
      "pleasant things, profit out of profitable things, power out of strong\n",
      "things, as soon as we seek to separate them from the whole. We can no\n",
      "more have things and get the sensual good, by itself, than we can get\n",
      "an inside that shall have no outside, or a light without a shadow.\n",
      "\"Drive out nature with a fork, she comes running back.\"[110]\n",
      "\n",
      "Life invests itself with inevitable conditions, which the unwise seek\n",
      "to dodge, which one and another brags that he does not know; that they\n",
      "do not touch him;--but the brag is on his lips, the conditions are in\n",
      "his soul. If he escapes them in one part, they attack him in another\n",
      "more vital part. If he has escaped them in form, and in the\n",
      "appearance, it is because he has resisted his life, and fled from\n",
      "himself, and the retribution is so much death. So signal is the\n",
      "failure of all attempts to make this separation of the good from the\n",
      "tax, that the experiment would not be tried,--since to try it is to be\n",
      "mad,--but for the circumstance, that when the disease began in the\n",
      "will, of rebellion and separation, the intellect is at once infected,\n",
      "so that the man ceases to see God whole in each object, but is able to\n",
      "see the sensual allurement of an object, and not see the sensual hurt;\n",
      "he sees the mermaid's head, but not the dragon's tail; and thinks he\n",
      "can cut off that which he would have, from that which he would not\n",
      "have. \"How secret art thou who dwellest in the highest heavens in\n",
      "silence, O thou only great God, sprinkling with an unwearied\n",
      "Providence certain penal blindnesses upon such as have unbridled\n",
      "desires!\"[111]\n",
      "\n",
      "The human soul is true to these facts in the painting of fable, of\n",
      "history, of law, of proverbs, of conversation. It finds a tongue in\n",
      "literature unawares. Thus the Greeks called Jupiter,[112] Supreme\n",
      "Mind; but having traditionally ascribed to him many base actions, they\n",
      "involuntarily made amends to reason, by tying up the hands[113] of so\n",
      "bad a god. He is made as helpless as a king of England.[114]\n",
      "Prometheus[115] knows one secret which Jove must bargain for;\n",
      "Minerva,[116] another. He cannot get his own thunders; Minerva keeps\n",
      "the key of them.\n",
      "\n",
      "   \"Of all the gods, I only know the keys\n",
      "    That ope the solid doors within whose vaults\n",
      "    His thunders sleep.\"\n",
      "\n",
      "A plain confession of\n"
     ]
    }
   ],
   "source": [
    "url3 = 'https://www.gutenberg.org/cache/epub/16643/pg16643.txt'\n",
    "res3 = requests.get(url3)\n",
    "html_page = res3.text\n",
    "\n",
    "# Parse the source code using BeautifulSoup\n",
    "soup = BeautifulSoup(html_page, 'html.parser')\n",
    "\n",
    "# Extract the plain text content\n",
    "text3 = soup.get_text()\n",
    "\n",
    "# Print the plain text\n",
    "print(text3[60000:70000],text3[80000:90000])"
   ]
  },
  {
   "cell_type": "code",
   "execution_count": 89,
   "id": "93eb5d6d-add4-4032-8a94-d08df0971dbb",
   "metadata": {},
   "outputs": [],
   "source": [
    "mashups = text2 + text3 + text2\n",
    "model = NgramModel(mashups, 3)"
   ]
  },
  {
   "cell_type": "code",
   "execution_count": 99,
   "id": "66d04b96-e127-4584-9234-f9ff625de8c9",
   "metadata": {},
   "outputs": [
    {
     "data": {
      "text/plain": [
       "\"it tells you only what will you have missed , you know it – “a cosmos ,” as haraway calls it , in 2002 , illich described what he was made class poet after several others had declined . 105 the microscope cannot find the peace of society is “stunned by a pupil of plato . parliamentary history has few better passages than the palate , the adoption of a stranger in a good and great as he said . instantly the book itself . treacherous heart , faithful his will and mind . persons and in the intellectual improvement of society to find them . marvell's wit and of an object of beauty , were built up and onward forevermore ! we cannot but hold . inaction is cowardice , but these are characters in scott's novel , _old mortality_ . he that would bring home the greater part of life are the music and pictures of minerva ,441 juno ,442 or polymnia ;443 and , as much better than hawthorne did . where she is present , there the gods as taking part in the best , none from its pedestal , and on such deep grounds of the skin until the necessary and talk of deviations from natural life , are had by unprincipled men , i rather sympathize with the larger part of emerson's philosophic faith that these things material to our own wealth . thes . medicine , to himself ; to make presents of gold and color . 710 let the beauty straightway vanished ; they would appear , could we see the annoyances , shifts , and impressed every intelligent reader with the sword which hector had presented to him the measure of right . where he spent his last height , and dignity into washington's port , and art , through philosophy and history for an axe . 301 we chide the citizen , and kill . let them then become organs of one stem . without electricity the air of scone castle ,628 the moonlight scene , or church , contribute to current discussion is the littleness of common life . _res nolunt diu male administrari . wisdom will never be this rapture in nature slight dislocations which apprize us that _if we are too clumsy for so subtle a topic , which philosophy and science is nothing else in education could supply . e below . harm watch , harm catch . pregnant couples make life and our substance . footnote 505 : ceres . 230 it is fit for that great defying eye , which one and another for use of a divine manifestation , but spiritual , as his ends ; every suppressed or expunged word reverberates through the cloven flame whilst it glows on our walls of habitual reserve vanished , and inconveniences , that our actions are insane like its whole life acts ; in your possession . our dependence on these foreign goods leads us to go into a vast flow ! i am equally balked by antagonism and by a delegate , what affinity ! ever an old faded garment of dead persons ; the luminaries of heaven was the originator of the fall of snowflakes in a single golden calf before which all forms flee as the costliest addition to come at last sinking , chilled , exhausted and fruitless , like all times , absorbs into his native tongue , deign to enter and inhabit you , from some allowance even to the truth shall make men sensible by the cheerful serenity of their youth on flame . 222 but so may you give them ? we do nothing . p . “epistemic sentimentality” attaches itself to life than a street serenade , or bidpai . after you have satisfied your relations to society , composed of a more abundant food . harmful . poets should be first named . once or twice in a thousand miles off . close baseball stadiums and large hockey arenas , by your nature as an old planet ; the girl , a coil of cord in the fable . ”the “new way of looking at that of all classes . great genial power , are holes and dens . join our mailing listemailsubmitill willpartisan analysis of the neighborhood of the ship . if i pretended to settle its character . walter devereux was a remarkable curtailing of civil virtue among mankind . “the ‘integrity’ or ‘sincerity’ of the atlantic follow the moon for the sense in the means , renounce what he calls it ; and signer torre del greco , who made her abode at delphi in greece the accomplished athlete was reverenced almost as a background , the expectation of these words . these principles of life with any emphasis , the story . welcome evermore to gods and men is the first regular english tragedy , the scholar loses no time to consider what a disgrace to love me , also marked by a commendable prudence , which are felt toward others , are as admirable as his head carefully out of [number] he was made private astronomer to the poor young poet , edward young . 28 : does emerson mean by creole natures ? footnote 428 : mr . chr . friendship demands is composure , and now read one of its members . – will be satisfied also . * * ii . respect the truth shall one day . explain its appropriateness here . more freedom exists for culture . footnote 644 : daguerre  \""
      ]
     },
     "execution_count": 99,
     "metadata": {},
     "output_type": "execute_result"
    }
   ],
   "source": [
    "model.generate(100)\n"
   ]
  },
  {
   "cell_type": "code",
   "execution_count": null,
   "id": "e5cd0eed-a067-4fc6-b262-bc8025c810e8",
   "metadata": {},
   "outputs": [],
   "source": []
  },
  {
   "cell_type": "code",
   "execution_count": null,
   "id": "ff80fa29-0aea-42fd-a80e-b1b0e39c7685",
   "metadata": {},
   "outputs": [],
   "source": []
  },
  {
   "cell_type": "markdown",
   "id": "9db9cef5",
   "metadata": {},
   "source": [
    "# References\n",
    "\n",
    "most used: \n",
    "* https://notebook.community/luketurner/ipython-notebooks/notebooks/n-gram%20tutorial\n",
    "* https://medium.com/analytics-vidhya/a-comprehensive-guide-to-build-your-own-language-model-in-python-5141b3917d6d\n",
    "* https://towardsdatascience.com/simulating-text-with-markov-chains-in-python-1a27e6d13fc6\n",
    "\n",
    "others:\n",
    "* https://eliteai-coep.medium.com/building-n-gram-language-model-from-scratch-9a5ec206b520\n",
    "* https://github.com/joshualoehr/ngram-language-model/blob/master/language_model.py\n",
    "* http://www.pygaze.org/2016/03/how-to-code-twitter-bot/\n",
    "    - code: https://github.com/esdalmaijer/markovbot\n",
    "* https://towardsdatascience.com/implementing-a-character-level-trigram-language-model-from-scratch-in-python-27ca0e1c3c3f"
   ]
  },
  {
   "cell_type": "code",
   "execution_count": null,
   "id": "e59e3246-08a5-4df5-b9c0-af241386d5cb",
   "metadata": {},
   "outputs": [],
   "source": []
  }
 ],
 "metadata": {
  "celltoolbar": "Slideshow",
  "kernelspec": {
   "display_name": "Python 3 (ipykernel)",
   "language": "python",
   "name": "python3"
  },
  "language_info": {
   "codemirror_mode": {
    "name": "ipython",
    "version": 3
   },
   "file_extension": ".py",
   "mimetype": "text/x-python",
   "name": "python",
   "nbconvert_exporter": "python",
   "pygments_lexer": "ipython3",
   "version": "3.11.4"
  }
 },
 "nbformat": 4,
 "nbformat_minor": 5
}
